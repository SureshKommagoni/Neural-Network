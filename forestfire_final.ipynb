{
 "cells": [
  {
   "cell_type": "markdown",
   "id": "235f9503",
   "metadata": {},
   "source": [
    "## Importing Libraries\n"
   ]
  },
  {
   "cell_type": "code",
   "execution_count": 1,
   "id": "a613d277",
   "metadata": {
    "ExecuteTime": {
     "end_time": "2024-03-08T05:43:34.010801Z",
     "start_time": "2024-03-08T05:43:24.334195Z"
    }
   },
   "outputs": [],
   "source": [
    "import pandas as pd\n",
    "import numpy as np\n",
    "import matplotlib.pyplot as plt\n",
    "%matplotlib inline\n",
    "import seaborn as sns\n"
   ]
  },
  {
   "cell_type": "markdown",
   "id": "a4f7b4e2",
   "metadata": {},
   "source": [
    "### Loading the Dataset"
   ]
  },
  {
   "cell_type": "code",
   "execution_count": 2,
   "id": "9c0aded6",
   "metadata": {
    "ExecuteTime": {
     "end_time": "2024-03-08T05:43:40.563240Z",
     "start_time": "2024-03-08T05:43:39.522032Z"
    }
   },
   "outputs": [],
   "source": [
    "df = pd.read_csv('forestfires.csv')"
   ]
  },
  {
   "cell_type": "code",
   "execution_count": 3,
   "id": "1cc9e51b",
   "metadata": {
    "ExecuteTime": {
     "end_time": "2024-03-08T05:43:46.314534Z",
     "start_time": "2024-03-08T05:43:46.179379Z"
    }
   },
   "outputs": [
    {
     "data": {
      "text/html": [
       "<div>\n",
       "<style scoped>\n",
       "    .dataframe tbody tr th:only-of-type {\n",
       "        vertical-align: middle;\n",
       "    }\n",
       "\n",
       "    .dataframe tbody tr th {\n",
       "        vertical-align: top;\n",
       "    }\n",
       "\n",
       "    .dataframe thead th {\n",
       "        text-align: right;\n",
       "    }\n",
       "</style>\n",
       "<table border=\"1\" class=\"dataframe\">\n",
       "  <thead>\n",
       "    <tr style=\"text-align: right;\">\n",
       "      <th></th>\n",
       "      <th>month</th>\n",
       "      <th>day</th>\n",
       "      <th>FFMC</th>\n",
       "      <th>DMC</th>\n",
       "      <th>DC</th>\n",
       "      <th>ISI</th>\n",
       "      <th>temp</th>\n",
       "      <th>RH</th>\n",
       "      <th>wind</th>\n",
       "      <th>rain</th>\n",
       "      <th>...</th>\n",
       "      <th>monthfeb</th>\n",
       "      <th>monthjan</th>\n",
       "      <th>monthjul</th>\n",
       "      <th>monthjun</th>\n",
       "      <th>monthmar</th>\n",
       "      <th>monthmay</th>\n",
       "      <th>monthnov</th>\n",
       "      <th>monthoct</th>\n",
       "      <th>monthsep</th>\n",
       "      <th>size_category</th>\n",
       "    </tr>\n",
       "  </thead>\n",
       "  <tbody>\n",
       "    <tr>\n",
       "      <th>0</th>\n",
       "      <td>mar</td>\n",
       "      <td>fri</td>\n",
       "      <td>86.2</td>\n",
       "      <td>26.2</td>\n",
       "      <td>94.3</td>\n",
       "      <td>5.1</td>\n",
       "      <td>8.2</td>\n",
       "      <td>51</td>\n",
       "      <td>6.7</td>\n",
       "      <td>0.0</td>\n",
       "      <td>...</td>\n",
       "      <td>0</td>\n",
       "      <td>0</td>\n",
       "      <td>0</td>\n",
       "      <td>0</td>\n",
       "      <td>1</td>\n",
       "      <td>0</td>\n",
       "      <td>0</td>\n",
       "      <td>0</td>\n",
       "      <td>0</td>\n",
       "      <td>small</td>\n",
       "    </tr>\n",
       "    <tr>\n",
       "      <th>1</th>\n",
       "      <td>oct</td>\n",
       "      <td>tue</td>\n",
       "      <td>90.6</td>\n",
       "      <td>35.4</td>\n",
       "      <td>669.1</td>\n",
       "      <td>6.7</td>\n",
       "      <td>18.0</td>\n",
       "      <td>33</td>\n",
       "      <td>0.9</td>\n",
       "      <td>0.0</td>\n",
       "      <td>...</td>\n",
       "      <td>0</td>\n",
       "      <td>0</td>\n",
       "      <td>0</td>\n",
       "      <td>0</td>\n",
       "      <td>0</td>\n",
       "      <td>0</td>\n",
       "      <td>0</td>\n",
       "      <td>1</td>\n",
       "      <td>0</td>\n",
       "      <td>small</td>\n",
       "    </tr>\n",
       "    <tr>\n",
       "      <th>2</th>\n",
       "      <td>oct</td>\n",
       "      <td>sat</td>\n",
       "      <td>90.6</td>\n",
       "      <td>43.7</td>\n",
       "      <td>686.9</td>\n",
       "      <td>6.7</td>\n",
       "      <td>14.6</td>\n",
       "      <td>33</td>\n",
       "      <td>1.3</td>\n",
       "      <td>0.0</td>\n",
       "      <td>...</td>\n",
       "      <td>0</td>\n",
       "      <td>0</td>\n",
       "      <td>0</td>\n",
       "      <td>0</td>\n",
       "      <td>0</td>\n",
       "      <td>0</td>\n",
       "      <td>0</td>\n",
       "      <td>1</td>\n",
       "      <td>0</td>\n",
       "      <td>small</td>\n",
       "    </tr>\n",
       "    <tr>\n",
       "      <th>3</th>\n",
       "      <td>mar</td>\n",
       "      <td>fri</td>\n",
       "      <td>91.7</td>\n",
       "      <td>33.3</td>\n",
       "      <td>77.5</td>\n",
       "      <td>9.0</td>\n",
       "      <td>8.3</td>\n",
       "      <td>97</td>\n",
       "      <td>4.0</td>\n",
       "      <td>0.2</td>\n",
       "      <td>...</td>\n",
       "      <td>0</td>\n",
       "      <td>0</td>\n",
       "      <td>0</td>\n",
       "      <td>0</td>\n",
       "      <td>1</td>\n",
       "      <td>0</td>\n",
       "      <td>0</td>\n",
       "      <td>0</td>\n",
       "      <td>0</td>\n",
       "      <td>small</td>\n",
       "    </tr>\n",
       "    <tr>\n",
       "      <th>4</th>\n",
       "      <td>mar</td>\n",
       "      <td>sun</td>\n",
       "      <td>89.3</td>\n",
       "      <td>51.3</td>\n",
       "      <td>102.2</td>\n",
       "      <td>9.6</td>\n",
       "      <td>11.4</td>\n",
       "      <td>99</td>\n",
       "      <td>1.8</td>\n",
       "      <td>0.0</td>\n",
       "      <td>...</td>\n",
       "      <td>0</td>\n",
       "      <td>0</td>\n",
       "      <td>0</td>\n",
       "      <td>0</td>\n",
       "      <td>1</td>\n",
       "      <td>0</td>\n",
       "      <td>0</td>\n",
       "      <td>0</td>\n",
       "      <td>0</td>\n",
       "      <td>small</td>\n",
       "    </tr>\n",
       "  </tbody>\n",
       "</table>\n",
       "<p>5 rows × 31 columns</p>\n",
       "</div>"
      ],
      "text/plain": [
       "  month  day  FFMC   DMC     DC  ISI  temp  RH  wind  rain  ...  monthfeb  \\\n",
       "0   mar  fri  86.2  26.2   94.3  5.1   8.2  51   6.7   0.0  ...         0   \n",
       "1   oct  tue  90.6  35.4  669.1  6.7  18.0  33   0.9   0.0  ...         0   \n",
       "2   oct  sat  90.6  43.7  686.9  6.7  14.6  33   1.3   0.0  ...         0   \n",
       "3   mar  fri  91.7  33.3   77.5  9.0   8.3  97   4.0   0.2  ...         0   \n",
       "4   mar  sun  89.3  51.3  102.2  9.6  11.4  99   1.8   0.0  ...         0   \n",
       "\n",
       "   monthjan  monthjul  monthjun  monthmar  monthmay  monthnov  monthoct  \\\n",
       "0         0         0         0         1         0         0         0   \n",
       "1         0         0         0         0         0         0         1   \n",
       "2         0         0         0         0         0         0         1   \n",
       "3         0         0         0         1         0         0         0   \n",
       "4         0         0         0         1         0         0         0   \n",
       "\n",
       "   monthsep  size_category  \n",
       "0         0          small  \n",
       "1         0          small  \n",
       "2         0          small  \n",
       "3         0          small  \n",
       "4         0          small  \n",
       "\n",
       "[5 rows x 31 columns]"
      ]
     },
     "execution_count": 3,
     "metadata": {},
     "output_type": "execute_result"
    }
   ],
   "source": [
    "df.head()"
   ]
  },
  {
   "cell_type": "markdown",
   "id": "4f5434a5",
   "metadata": {},
   "source": [
    "##  Attribute Information:\n",
    "\n",
    "    X : x-axis spatial coordinate within the Montesinho park map: 1 to 9\n",
    "    Y : y-axis spatial coordinate within the Montesinho park map: 2 to 9\n",
    "    month : month of the year: ‘jan’ to ‘dec’\n",
    "    day : day of the week: ‘mon’ to ‘sun’\n",
    "    FFMC : FFMC (Fine Fuel Moisture Code) index from the FWI system: 18.7 to 96.20\n",
    "    DMC : DMC (Duff Moisture Code) index from the FWI system: 1.1 to 291.3\n",
    "    DC : DC (Drought Code) index from the FWI system: 7.9 to 860.6\n",
    "    ISI : ISI (Initial Spread Index) index from the FWI system: 0.0 to 56.10\n",
    "    temp : temperature in Celsius degrees: 2.2 to 33.30\n",
    "    RH : relative humidity in %: 15.0 to 100\n",
    "    wind : wind speed in km/h: 0.40 to 9.40\n",
    "    rain : outside rain in mm/m2 : 0.0 to 6.4\n",
    "    area : the burned area of the forest (in ha): 0.00 to 1090.84"
   ]
  },
  {
   "cell_type": "markdown",
   "id": "9a1950ab",
   "metadata": {},
   "source": [
    "## EDA"
   ]
  },
  {
   "cell_type": "code",
   "execution_count": 4,
   "id": "0dbd19dd",
   "metadata": {
    "ExecuteTime": {
     "end_time": "2024-03-08T05:43:52.066781Z",
     "start_time": "2024-03-08T05:43:52.053240Z"
    }
   },
   "outputs": [
    {
     "name": "stdout",
     "output_type": "stream",
     "text": [
      "<class 'pandas.core.frame.DataFrame'>\n",
      "RangeIndex: 517 entries, 0 to 516\n",
      "Data columns (total 31 columns):\n",
      " #   Column         Non-Null Count  Dtype  \n",
      "---  ------         --------------  -----  \n",
      " 0   month          517 non-null    object \n",
      " 1   day            517 non-null    object \n",
      " 2   FFMC           517 non-null    float64\n",
      " 3   DMC            517 non-null    float64\n",
      " 4   DC             517 non-null    float64\n",
      " 5   ISI            517 non-null    float64\n",
      " 6   temp           517 non-null    float64\n",
      " 7   RH             517 non-null    int64  \n",
      " 8   wind           517 non-null    float64\n",
      " 9   rain           517 non-null    float64\n",
      " 10  area           517 non-null    float64\n",
      " 11  dayfri         517 non-null    int64  \n",
      " 12  daymon         517 non-null    int64  \n",
      " 13  daysat         517 non-null    int64  \n",
      " 14  daysun         517 non-null    int64  \n",
      " 15  daythu         517 non-null    int64  \n",
      " 16  daytue         517 non-null    int64  \n",
      " 17  daywed         517 non-null    int64  \n",
      " 18  monthapr       517 non-null    int64  \n",
      " 19  monthaug       517 non-null    int64  \n",
      " 20  monthdec       517 non-null    int64  \n",
      " 21  monthfeb       517 non-null    int64  \n",
      " 22  monthjan       517 non-null    int64  \n",
      " 23  monthjul       517 non-null    int64  \n",
      " 24  monthjun       517 non-null    int64  \n",
      " 25  monthmar       517 non-null    int64  \n",
      " 26  monthmay       517 non-null    int64  \n",
      " 27  monthnov       517 non-null    int64  \n",
      " 28  monthoct       517 non-null    int64  \n",
      " 29  monthsep       517 non-null    int64  \n",
      " 30  size_category  517 non-null    object \n",
      "dtypes: float64(8), int64(20), object(3)\n",
      "memory usage: 125.3+ KB\n"
     ]
    }
   ],
   "source": [
    "df.info()"
   ]
  },
  {
   "cell_type": "code",
   "execution_count": 5,
   "id": "3aab85dc",
   "metadata": {
    "ExecuteTime": {
     "end_time": "2024-03-08T05:43:55.562441Z",
     "start_time": "2024-03-08T05:43:55.343444Z"
    }
   },
   "outputs": [
    {
     "data": {
      "text/html": [
       "<div>\n",
       "<style scoped>\n",
       "    .dataframe tbody tr th:only-of-type {\n",
       "        vertical-align: middle;\n",
       "    }\n",
       "\n",
       "    .dataframe tbody tr th {\n",
       "        vertical-align: top;\n",
       "    }\n",
       "\n",
       "    .dataframe thead th {\n",
       "        text-align: right;\n",
       "    }\n",
       "</style>\n",
       "<table border=\"1\" class=\"dataframe\">\n",
       "  <thead>\n",
       "    <tr style=\"text-align: right;\">\n",
       "      <th></th>\n",
       "      <th>FFMC</th>\n",
       "      <th>DMC</th>\n",
       "      <th>DC</th>\n",
       "      <th>ISI</th>\n",
       "      <th>temp</th>\n",
       "      <th>RH</th>\n",
       "      <th>wind</th>\n",
       "      <th>rain</th>\n",
       "      <th>area</th>\n",
       "      <th>dayfri</th>\n",
       "      <th>...</th>\n",
       "      <th>monthdec</th>\n",
       "      <th>monthfeb</th>\n",
       "      <th>monthjan</th>\n",
       "      <th>monthjul</th>\n",
       "      <th>monthjun</th>\n",
       "      <th>monthmar</th>\n",
       "      <th>monthmay</th>\n",
       "      <th>monthnov</th>\n",
       "      <th>monthoct</th>\n",
       "      <th>monthsep</th>\n",
       "    </tr>\n",
       "  </thead>\n",
       "  <tbody>\n",
       "    <tr>\n",
       "      <th>count</th>\n",
       "      <td>517.000000</td>\n",
       "      <td>517.000000</td>\n",
       "      <td>517.000000</td>\n",
       "      <td>517.000000</td>\n",
       "      <td>517.000000</td>\n",
       "      <td>517.000000</td>\n",
       "      <td>517.000000</td>\n",
       "      <td>517.000000</td>\n",
       "      <td>517.000000</td>\n",
       "      <td>517.000000</td>\n",
       "      <td>...</td>\n",
       "      <td>517.000000</td>\n",
       "      <td>517.000000</td>\n",
       "      <td>517.000000</td>\n",
       "      <td>517.000000</td>\n",
       "      <td>517.000000</td>\n",
       "      <td>517.000000</td>\n",
       "      <td>517.000000</td>\n",
       "      <td>517.000000</td>\n",
       "      <td>517.000000</td>\n",
       "      <td>517.000000</td>\n",
       "    </tr>\n",
       "    <tr>\n",
       "      <th>mean</th>\n",
       "      <td>90.644681</td>\n",
       "      <td>110.872340</td>\n",
       "      <td>547.940039</td>\n",
       "      <td>9.021663</td>\n",
       "      <td>18.889168</td>\n",
       "      <td>44.288201</td>\n",
       "      <td>4.017602</td>\n",
       "      <td>0.021663</td>\n",
       "      <td>12.847292</td>\n",
       "      <td>0.164410</td>\n",
       "      <td>...</td>\n",
       "      <td>0.017408</td>\n",
       "      <td>0.038685</td>\n",
       "      <td>0.003868</td>\n",
       "      <td>0.061896</td>\n",
       "      <td>0.032882</td>\n",
       "      <td>0.104449</td>\n",
       "      <td>0.003868</td>\n",
       "      <td>0.001934</td>\n",
       "      <td>0.029014</td>\n",
       "      <td>0.332689</td>\n",
       "    </tr>\n",
       "    <tr>\n",
       "      <th>std</th>\n",
       "      <td>5.520111</td>\n",
       "      <td>64.046482</td>\n",
       "      <td>248.066192</td>\n",
       "      <td>4.559477</td>\n",
       "      <td>5.806625</td>\n",
       "      <td>16.317469</td>\n",
       "      <td>1.791653</td>\n",
       "      <td>0.295959</td>\n",
       "      <td>63.655818</td>\n",
       "      <td>0.371006</td>\n",
       "      <td>...</td>\n",
       "      <td>0.130913</td>\n",
       "      <td>0.193029</td>\n",
       "      <td>0.062137</td>\n",
       "      <td>0.241199</td>\n",
       "      <td>0.178500</td>\n",
       "      <td>0.306138</td>\n",
       "      <td>0.062137</td>\n",
       "      <td>0.043980</td>\n",
       "      <td>0.168007</td>\n",
       "      <td>0.471632</td>\n",
       "    </tr>\n",
       "    <tr>\n",
       "      <th>min</th>\n",
       "      <td>18.700000</td>\n",
       "      <td>1.100000</td>\n",
       "      <td>7.900000</td>\n",
       "      <td>0.000000</td>\n",
       "      <td>2.200000</td>\n",
       "      <td>15.000000</td>\n",
       "      <td>0.400000</td>\n",
       "      <td>0.000000</td>\n",
       "      <td>0.000000</td>\n",
       "      <td>0.000000</td>\n",
       "      <td>...</td>\n",
       "      <td>0.000000</td>\n",
       "      <td>0.000000</td>\n",
       "      <td>0.000000</td>\n",
       "      <td>0.000000</td>\n",
       "      <td>0.000000</td>\n",
       "      <td>0.000000</td>\n",
       "      <td>0.000000</td>\n",
       "      <td>0.000000</td>\n",
       "      <td>0.000000</td>\n",
       "      <td>0.000000</td>\n",
       "    </tr>\n",
       "    <tr>\n",
       "      <th>25%</th>\n",
       "      <td>90.200000</td>\n",
       "      <td>68.600000</td>\n",
       "      <td>437.700000</td>\n",
       "      <td>6.500000</td>\n",
       "      <td>15.500000</td>\n",
       "      <td>33.000000</td>\n",
       "      <td>2.700000</td>\n",
       "      <td>0.000000</td>\n",
       "      <td>0.000000</td>\n",
       "      <td>0.000000</td>\n",
       "      <td>...</td>\n",
       "      <td>0.000000</td>\n",
       "      <td>0.000000</td>\n",
       "      <td>0.000000</td>\n",
       "      <td>0.000000</td>\n",
       "      <td>0.000000</td>\n",
       "      <td>0.000000</td>\n",
       "      <td>0.000000</td>\n",
       "      <td>0.000000</td>\n",
       "      <td>0.000000</td>\n",
       "      <td>0.000000</td>\n",
       "    </tr>\n",
       "    <tr>\n",
       "      <th>50%</th>\n",
       "      <td>91.600000</td>\n",
       "      <td>108.300000</td>\n",
       "      <td>664.200000</td>\n",
       "      <td>8.400000</td>\n",
       "      <td>19.300000</td>\n",
       "      <td>42.000000</td>\n",
       "      <td>4.000000</td>\n",
       "      <td>0.000000</td>\n",
       "      <td>0.520000</td>\n",
       "      <td>0.000000</td>\n",
       "      <td>...</td>\n",
       "      <td>0.000000</td>\n",
       "      <td>0.000000</td>\n",
       "      <td>0.000000</td>\n",
       "      <td>0.000000</td>\n",
       "      <td>0.000000</td>\n",
       "      <td>0.000000</td>\n",
       "      <td>0.000000</td>\n",
       "      <td>0.000000</td>\n",
       "      <td>0.000000</td>\n",
       "      <td>0.000000</td>\n",
       "    </tr>\n",
       "    <tr>\n",
       "      <th>75%</th>\n",
       "      <td>92.900000</td>\n",
       "      <td>142.400000</td>\n",
       "      <td>713.900000</td>\n",
       "      <td>10.800000</td>\n",
       "      <td>22.800000</td>\n",
       "      <td>53.000000</td>\n",
       "      <td>4.900000</td>\n",
       "      <td>0.000000</td>\n",
       "      <td>6.570000</td>\n",
       "      <td>0.000000</td>\n",
       "      <td>...</td>\n",
       "      <td>0.000000</td>\n",
       "      <td>0.000000</td>\n",
       "      <td>0.000000</td>\n",
       "      <td>0.000000</td>\n",
       "      <td>0.000000</td>\n",
       "      <td>0.000000</td>\n",
       "      <td>0.000000</td>\n",
       "      <td>0.000000</td>\n",
       "      <td>0.000000</td>\n",
       "      <td>1.000000</td>\n",
       "    </tr>\n",
       "    <tr>\n",
       "      <th>max</th>\n",
       "      <td>96.200000</td>\n",
       "      <td>291.300000</td>\n",
       "      <td>860.600000</td>\n",
       "      <td>56.100000</td>\n",
       "      <td>33.300000</td>\n",
       "      <td>100.000000</td>\n",
       "      <td>9.400000</td>\n",
       "      <td>6.400000</td>\n",
       "      <td>1090.840000</td>\n",
       "      <td>1.000000</td>\n",
       "      <td>...</td>\n",
       "      <td>1.000000</td>\n",
       "      <td>1.000000</td>\n",
       "      <td>1.000000</td>\n",
       "      <td>1.000000</td>\n",
       "      <td>1.000000</td>\n",
       "      <td>1.000000</td>\n",
       "      <td>1.000000</td>\n",
       "      <td>1.000000</td>\n",
       "      <td>1.000000</td>\n",
       "      <td>1.000000</td>\n",
       "    </tr>\n",
       "  </tbody>\n",
       "</table>\n",
       "<p>8 rows × 28 columns</p>\n",
       "</div>"
      ],
      "text/plain": [
       "             FFMC         DMC          DC         ISI        temp          RH  \\\n",
       "count  517.000000  517.000000  517.000000  517.000000  517.000000  517.000000   \n",
       "mean    90.644681  110.872340  547.940039    9.021663   18.889168   44.288201   \n",
       "std      5.520111   64.046482  248.066192    4.559477    5.806625   16.317469   \n",
       "min     18.700000    1.100000    7.900000    0.000000    2.200000   15.000000   \n",
       "25%     90.200000   68.600000  437.700000    6.500000   15.500000   33.000000   \n",
       "50%     91.600000  108.300000  664.200000    8.400000   19.300000   42.000000   \n",
       "75%     92.900000  142.400000  713.900000   10.800000   22.800000   53.000000   \n",
       "max     96.200000  291.300000  860.600000   56.100000   33.300000  100.000000   \n",
       "\n",
       "             wind        rain         area      dayfri  ...    monthdec  \\\n",
       "count  517.000000  517.000000   517.000000  517.000000  ...  517.000000   \n",
       "mean     4.017602    0.021663    12.847292    0.164410  ...    0.017408   \n",
       "std      1.791653    0.295959    63.655818    0.371006  ...    0.130913   \n",
       "min      0.400000    0.000000     0.000000    0.000000  ...    0.000000   \n",
       "25%      2.700000    0.000000     0.000000    0.000000  ...    0.000000   \n",
       "50%      4.000000    0.000000     0.520000    0.000000  ...    0.000000   \n",
       "75%      4.900000    0.000000     6.570000    0.000000  ...    0.000000   \n",
       "max      9.400000    6.400000  1090.840000    1.000000  ...    1.000000   \n",
       "\n",
       "         monthfeb    monthjan    monthjul    monthjun    monthmar    monthmay  \\\n",
       "count  517.000000  517.000000  517.000000  517.000000  517.000000  517.000000   \n",
       "mean     0.038685    0.003868    0.061896    0.032882    0.104449    0.003868   \n",
       "std      0.193029    0.062137    0.241199    0.178500    0.306138    0.062137   \n",
       "min      0.000000    0.000000    0.000000    0.000000    0.000000    0.000000   \n",
       "25%      0.000000    0.000000    0.000000    0.000000    0.000000    0.000000   \n",
       "50%      0.000000    0.000000    0.000000    0.000000    0.000000    0.000000   \n",
       "75%      0.000000    0.000000    0.000000    0.000000    0.000000    0.000000   \n",
       "max      1.000000    1.000000    1.000000    1.000000    1.000000    1.000000   \n",
       "\n",
       "         monthnov    monthoct    monthsep  \n",
       "count  517.000000  517.000000  517.000000  \n",
       "mean     0.001934    0.029014    0.332689  \n",
       "std      0.043980    0.168007    0.471632  \n",
       "min      0.000000    0.000000    0.000000  \n",
       "25%      0.000000    0.000000    0.000000  \n",
       "50%      0.000000    0.000000    0.000000  \n",
       "75%      0.000000    0.000000    1.000000  \n",
       "max      1.000000    1.000000    1.000000  \n",
       "\n",
       "[8 rows x 28 columns]"
      ]
     },
     "execution_count": 5,
     "metadata": {},
     "output_type": "execute_result"
    }
   ],
   "source": [
    "df.describe()"
   ]
  },
  {
   "cell_type": "code",
   "execution_count": 7,
   "id": "94c69432",
   "metadata": {
    "ExecuteTime": {
     "end_time": "2024-03-07T13:57:19.141774Z",
     "start_time": "2024-03-07T13:57:19.127786Z"
    }
   },
   "outputs": [
    {
     "data": {
      "text/plain": [
       "month            0\n",
       "day              0\n",
       "FFMC             0\n",
       "DMC              0\n",
       "DC               0\n",
       "ISI              0\n",
       "temp             0\n",
       "RH               0\n",
       "wind             0\n",
       "rain             0\n",
       "area             0\n",
       "dayfri           0\n",
       "daymon           0\n",
       "daysat           0\n",
       "daysun           0\n",
       "daythu           0\n",
       "daytue           0\n",
       "daywed           0\n",
       "monthapr         0\n",
       "monthaug         0\n",
       "monthdec         0\n",
       "monthfeb         0\n",
       "monthjan         0\n",
       "monthjul         0\n",
       "monthjun         0\n",
       "monthmar         0\n",
       "monthmay         0\n",
       "monthnov         0\n",
       "monthoct         0\n",
       "monthsep         0\n",
       "size_category    0\n",
       "dtype: int64"
      ]
     },
     "execution_count": 7,
     "metadata": {},
     "output_type": "execute_result"
    }
   ],
   "source": [
    "df.isnull().sum()"
   ]
  },
  {
   "cell_type": "code",
   "execution_count": 6,
   "id": "17848348",
   "metadata": {
    "ExecuteTime": {
     "end_time": "2024-03-08T05:44:16.491052Z",
     "start_time": "2024-03-08T05:44:16.485304Z"
    }
   },
   "outputs": [
    {
     "data": {
      "text/plain": [
       "(517, 31)"
      ]
     },
     "execution_count": 6,
     "metadata": {},
     "output_type": "execute_result"
    }
   ],
   "source": [
    "df.shape"
   ]
  },
  {
   "cell_type": "code",
   "execution_count": 7,
   "id": "e1ec2654",
   "metadata": {
    "ExecuteTime": {
     "end_time": "2024-03-08T05:44:19.250864Z",
     "start_time": "2024-03-08T05:44:19.240860Z"
    }
   },
   "outputs": [
    {
     "data": {
      "text/plain": [
       "size_category\n",
       "small    378\n",
       "large    139\n",
       "Name: count, dtype: int64"
      ]
     },
     "execution_count": 7,
     "metadata": {},
     "output_type": "execute_result"
    }
   ],
   "source": [
    "df.size_category.value_counts()"
   ]
  },
  {
   "cell_type": "code",
   "execution_count": 12,
   "id": "07d8c59a",
   "metadata": {
    "ExecuteTime": {
     "end_time": "2024-03-07T14:00:43.238040Z",
     "start_time": "2024-03-07T14:00:41.835979Z"
    }
   },
   "outputs": [
    {
     "data": {
      "text/plain": [
       "<Axes: xlabel='month', ylabel='count'>"
      ]
     },
     "execution_count": 12,
     "metadata": {},
     "output_type": "execute_result"
    },
    {
     "data": {
      "image/png": "[encoded data removed]",
      "text/plain": [
       "<Figure size 2000x1500 with 1 Axes>"
      ]
     },
     "metadata": {},
     "output_type": "display_data"
    }
   ],
   "source": [
    "plt.figure(figsize=(20,15))\n",
    "sns.countplot(data=df,x = 'month', hue='size_category')"
   ]
  },
  {
   "cell_type": "code",
   "execution_count": 8,
   "id": "f467f08c",
   "metadata": {
    "ExecuteTime": {
     "end_time": "2024-03-08T05:56:46.342867Z",
     "start_time": "2024-03-08T05:56:44.718399Z"
    },
    "scrolled": true
   },
   "outputs": [
    {
     "data": {
      "text/plain": [
       "<Axes: xlabel='day', ylabel='count'>"
      ]
     },
     "execution_count": 8,
     "metadata": {},
     "output_type": "execute_result"
    },
    {
     "data": {
      "image/png": "[encoded data removed]",
      "text/plain": [
       "<Figure size 640x480 with 1 Axes>"
      ]
     },
     "metadata": {},
     "output_type": "display_data"
    }
   ],
   "source": [
    "sns.countplot(df, x= 'day', hue='size_category')"
   ]
  },
  {
   "cell_type": "code",
   "execution_count": null,
   "id": "23e5c752",
   "metadata": {},
   "outputs": [],
   "source": []
  },
  {
   "cell_type": "code",
   "execution_count": 22,
   "id": "15134933",
   "metadata": {
    "ExecuteTime": {
     "end_time": "2024-03-08T06:19:00.560584Z",
     "start_time": "2024-03-08T06:18:59.060120Z"
    }
   },
   "outputs": [
    {
     "name": "stderr",
     "output_type": "stream",
     "text": [
      "C:\\Users\\Suresh Goud\\anaconda3\\Lib\\site-packages\\seaborn\\axisgrid.py:118: UserWarning: The figure layout has changed to tight\n",
      "  self._figure.tight_layout(*args, **kwargs)\n"
     ]
    },
    {
     "data": {
      "text/plain": [
       "<seaborn.axisgrid.FacetGrid at 0x2958fb38810>"
      ]
     },
     "execution_count": 22,
     "metadata": {},
     "output_type": "execute_result"
    },
    {
     "data": {
      "image/png": "[encoded data removed]",
      "text/plain": [
       "<Figure size 606.611x500 with 1 Axes>"
      ]
     },
     "metadata": {},
     "output_type": "display_data"
    }
   ],
   "source": [
    "sns.displot(data=df, x = 'temp', kde= True, hue='size_category')"
   ]
  },
  {
   "cell_type": "code",
   "execution_count": 20,
   "id": "90500a67",
   "metadata": {
    "ExecuteTime": {
     "end_time": "2024-03-08T06:18:20.117623Z",
     "start_time": "2024-03-08T06:18:20.100347Z"
    }
   },
   "outputs": [
    {
     "data": {
      "text/plain": [
       "size_category\n",
       "small    73.11412\n",
       "large    26.88588\n",
       "Name: proportion, dtype: float64"
      ]
     },
     "execution_count": 20,
     "metadata": {},
     "output_type": "execute_result"
    }
   ],
   "source": [
    "# Percentage for PieChart\n",
    "percentage = df.size_category.value_counts(normalize=True)*100\n",
    "percentage"
   ]
  },
  {
   "cell_type": "code",
   "execution_count": 21,
   "id": "5fdbf382",
   "metadata": {
    "ExecuteTime": {
     "end_time": "2024-03-08T06:18:24.878448Z",
     "start_time": "2024-03-08T06:18:24.114971Z"
    }
   },
   "outputs": [
    {
     "data": {
      "image/png": "[encoded data removed]",
      "text/plain": [
       "<Figure size 1200x700 with 1 Axes>"
      ]
     },
     "metadata": {},
     "output_type": "display_data"
    }
   ],
   "source": [
    "#plotting PieChart\n",
    "size_category = [\"small\", \"large\"]\n",
    "plt.figure(figsize =(12, 7))\n",
    "plt.pie(percentage,labels = size_category,autopct='%1.1f%%')  \n",
    "plt.title (\"Pie Chart of Classes\", fontsize = 15)\n",
    "plt.show() "
   ]
  },
  {
   "cell_type": "code",
   "execution_count": null,
   "id": "5d5aec88",
   "metadata": {},
   "outputs": [],
   "source": []
  },
  {
   "cell_type": "code",
   "execution_count": 23,
   "id": "93c8aad4",
   "metadata": {
    "ExecuteTime": {
     "end_time": "2024-03-08T06:24:30.717677Z",
     "start_time": "2024-03-08T06:24:29.988792Z"
    },
    "scrolled": true
   },
   "outputs": [
    {
     "data": {
      "text/plain": [
       "<Axes: xlabel='RH', ylabel='Count'>"
      ]
     },
     "execution_count": 23,
     "metadata": {},
     "output_type": "execute_result"
    },
    {
     "data": {
      "image/png": "[encoded data removed]",
      "text/plain": [
       "<Figure size 640x480 with 1 Axes>"
      ]
     },
     "metadata": {},
     "output_type": "display_data"
    }
   ],
   "source": [
    "sns.histplot(data=df, x='RH', hue='size_category')"
   ]
  },
  {
   "cell_type": "code",
   "execution_count": 41,
   "id": "69ebbe03",
   "metadata": {
    "ExecuteTime": {
     "end_time": "2024-03-08T06:46:54.483132Z",
     "start_time": "2024-03-08T06:46:53.789745Z"
    }
   },
   "outputs": [
    {
     "data": {
      "text/plain": [
       "<Axes: xlabel='wind', ylabel='Count'>"
      ]
     },
     "execution_count": 41,
     "metadata": {},
     "output_type": "execute_result"
    },
    {
     "data": {
      "image/png": "[encoded data removed]",
      "text/plain": [
       "<Figure size 640x480 with 1 Axes>"
      ]
     },
     "metadata": {},
     "output_type": "display_data"
    }
   ],
   "source": [
    "sns.histplot(data=df, x='wind', hue='size_category')"
   ]
  },
  {
   "cell_type": "code",
   "execution_count": null,
   "id": "8caee2b3",
   "metadata": {},
   "outputs": [],
   "source": [
    "nurmeric_col = df[['FFMC',\n",
    "                   'DMC',\n",
    "                   'DC',\n",
    "                   'ISI',\n",
    "                   'temp',\n",
    "                   'RH',\n",
    "                   'wind',\n",
    "                   'rain',\n",
    "                   'area',]].columns"
   ]
  },
  {
   "cell_type": "code",
   "execution_count": 43,
   "id": "bf4ff972",
   "metadata": {
    "ExecuteTime": {
     "end_time": "2024-03-08T06:50:46.473192Z",
     "start_time": "2024-03-08T06:50:30.813755Z"
    }
   },
   "outputs": [
    {
     "data": {
      "image/png": "[encoded data removed]",
      "text/plain": [
       "<Figure size 2000x1500 with 1 Axes>"
      ]
     },
     "metadata": {},
     "output_type": "display_data"
    },
    {
     "data": {
      "image/png": "[encoded data removed]",
      "text/plain": [
       "<Figure size 2000x1500 with 1 Axes>"
      ]
     },
     "metadata": {},
     "output_type": "display_data"
    },
    {
     "data": {
      "image/png": "[encoded data removed]",
      "text/plain": [
       "<Figure size 2000x1500 with 1 Axes>"
      ]
     },
     "metadata": {},
     "output_type": "display_data"
    },
    {
     "data": {
      "image/png": "[encoded data removed]",
      "text/plain": [
       "<Figure size 2000x1500 with 1 Axes>"
      ]
     },
     "metadata": {},
     "output_type": "display_data"
    },
    {
     "data": {
      "image/png": "[encoded data removed]",
      "text/plain": [
       "<Figure size 2000x1500 with 1 Axes>"
      ]
     },
     "metadata": {},
     "output_type": "display_data"
    },
    {
     "data": {
      "image/png": "[encoded data removed]",
      "text/plain": [
       "<Figure size 2000x1500 with 1 Axes>"
      ]
     },
     "metadata": {},
     "output_type": "display_data"
    },
    {
     "data": {
      "image/png": "[encoded data removed]",
      "text/plain": [
       "<Figure size 2000x1500 with 1 Axes>"
      ]
     },
     "metadata": {},
     "output_type": "display_data"
    },
    {
     "data": {
      "image/png": "[encoded data removed]",
      "text/plain": [
       "<Figure size 2000x1500 with 1 Axes>"
      ]
     },
     "metadata": {},
     "output_type": "display_data"
    },
    {
     "data": {
      "image/png": "[encoded data removed]",
      "text/plain": [
       "<Figure size 2000x1500 with 1 Axes>"
      ]
     },
     "metadata": {},
     "output_type": "display_data"
    }
   ],
   "source": [
    "for feature in nurmeric_col:\n",
    "    plt.figure(figsize=(20,15))\n",
    "    sns.histplot(data = df,x=feature, hue = 'size_category')\n",
    "    plt.legend(labels=['small','large'])\n",
    "    plt.title(feature)\n",
    "    plt.show()"
   ]
  },
  {
   "cell_type": "code",
   "execution_count": 31,
   "id": "e085b1e1",
   "metadata": {
    "ExecuteTime": {
     "end_time": "2024-03-08T06:38:27.899126Z",
     "start_time": "2024-03-08T06:38:27.886215Z"
    }
   },
   "outputs": [
    {
     "data": {
      "text/plain": [
       "['FFMC',\n",
       " 'DMC',\n",
       " 'DC',\n",
       " 'ISI',\n",
       " 'temp',\n",
       " 'RH',\n",
       " 'wind',\n",
       " 'rain',\n",
       " 'area',\n",
       " 'dayfri',\n",
       " 'daymon',\n",
       " 'daysat',\n",
       " 'daysun',\n",
       " 'daythu',\n",
       " 'daytue',\n",
       " 'daywed',\n",
       " 'monthapr',\n",
       " 'monthaug',\n",
       " 'monthdec',\n",
       " 'monthfeb',\n",
       " 'monthjan',\n",
       " 'monthjul',\n",
       " 'monthjun',\n",
       " 'monthmar',\n",
       " 'monthmay',\n",
       " 'monthnov',\n",
       " 'monthoct',\n",
       " 'monthsep']"
      ]
     },
     "execution_count": 31,
     "metadata": {},
     "output_type": "execute_result"
    }
   ],
   "source": [
    "ncol = [feature for feature in df.columns if df[feature].dtype != 'O']\n",
    "ncol"
   ]
  },
  {
   "cell_type": "code",
   "execution_count": 37,
   "id": "7482e888",
   "metadata": {
    "ExecuteTime": {
     "end_time": "2024-03-08T06:45:04.384453Z",
     "start_time": "2024-03-08T06:45:04.371992Z"
    }
   },
   "outputs": [],
   "source": [
    "nurmeric_col = df[['FFMC',\n",
    "                   'DMC',\n",
    "                   'DC',\n",
    "                   'ISI',\n",
    "                   'temp',\n",
    "                   'RH',\n",
    "                   'wind',\n",
    "                   'rain',\n",
    "                   'area',]].columns"
   ]
  },
  {
   "cell_type": "code",
   "execution_count": 38,
   "id": "b7650343",
   "metadata": {
    "ExecuteTime": {
     "end_time": "2024-03-08T06:45:09.888844Z",
     "start_time": "2024-03-08T06:45:09.877380Z"
    }
   },
   "outputs": [
    {
     "data": {
      "text/plain": [
       "Index(['FFMC', 'DMC', 'DC', 'ISI', 'temp', 'RH', 'wind', 'rain', 'area'], dtype='object')"
      ]
     },
     "execution_count": 38,
     "metadata": {},
     "output_type": "execute_result"
    }
   ],
   "source": [
    "nurmeric_col"
   ]
  },
  {
   "cell_type": "code",
   "execution_count": 39,
   "id": "f75342a1",
   "metadata": {
    "ExecuteTime": {
     "end_time": "2024-03-08T06:45:18.192201Z",
     "start_time": "2024-03-08T06:45:15.613686Z"
    },
    "scrolled": true
   },
   "outputs": [
    {
     "data": {
      "image/png": "[encoded data removed]",
      "text/plain": [
       "<Figure size 700x700 with 9 Axes>"
      ]
     },
     "metadata": {},
     "output_type": "display_data"
    }
   ],
   "source": [
    "fig, axs = plt.subplots(len(nurmeric_col),1,figsize = (7,7))\n",
    "i = 0\n",
    "\n",
    "for var in nurmeric_col:\n",
    "    sns.boxplot(df, x = var, ax = axs[i])\n",
    "    i += 1\n",
    "    \n",
    "plt.tight_layout()"
   ]
  },
  {
   "cell_type": "markdown",
   "id": "5d928057",
   "metadata": {},
   "source": [
    "## Feature Engineering"
   ]
  },
  {
   "cell_type": "code",
   "execution_count": 44,
   "id": "d412c836",
   "metadata": {
    "ExecuteTime": {
     "end_time": "2024-03-08T08:59:58.354812Z",
     "start_time": "2024-03-08T08:59:58.274319Z"
    }
   },
   "outputs": [
    {
     "data": {
      "text/html": [
       "<div>\n",
       "<style scoped>\n",
       "    .dataframe tbody tr th:only-of-type {\n",
       "        vertical-align: middle;\n",
       "    }\n",
       "\n",
       "    .dataframe tbody tr th {\n",
       "        vertical-align: top;\n",
       "    }\n",
       "\n",
       "    .dataframe thead th {\n",
       "        text-align: right;\n",
       "    }\n",
       "</style>\n",
       "<table border=\"1\" class=\"dataframe\">\n",
       "  <thead>\n",
       "    <tr style=\"text-align: right;\">\n",
       "      <th></th>\n",
       "      <th>month</th>\n",
       "      <th>day</th>\n",
       "      <th>FFMC</th>\n",
       "      <th>DMC</th>\n",
       "      <th>DC</th>\n",
       "      <th>ISI</th>\n",
       "      <th>temp</th>\n",
       "      <th>RH</th>\n",
       "      <th>wind</th>\n",
       "      <th>rain</th>\n",
       "      <th>...</th>\n",
       "      <th>monthfeb</th>\n",
       "      <th>monthjan</th>\n",
       "      <th>monthjul</th>\n",
       "      <th>monthjun</th>\n",
       "      <th>monthmar</th>\n",
       "      <th>monthmay</th>\n",
       "      <th>monthnov</th>\n",
       "      <th>monthoct</th>\n",
       "      <th>monthsep</th>\n",
       "      <th>size_category</th>\n",
       "    </tr>\n",
       "  </thead>\n",
       "  <tbody>\n",
       "    <tr>\n",
       "      <th>0</th>\n",
       "      <td>mar</td>\n",
       "      <td>fri</td>\n",
       "      <td>86.2</td>\n",
       "      <td>26.2</td>\n",
       "      <td>94.3</td>\n",
       "      <td>5.1</td>\n",
       "      <td>8.2</td>\n",
       "      <td>51</td>\n",
       "      <td>6.7</td>\n",
       "      <td>0.0</td>\n",
       "      <td>...</td>\n",
       "      <td>0</td>\n",
       "      <td>0</td>\n",
       "      <td>0</td>\n",
       "      <td>0</td>\n",
       "      <td>1</td>\n",
       "      <td>0</td>\n",
       "      <td>0</td>\n",
       "      <td>0</td>\n",
       "      <td>0</td>\n",
       "      <td>small</td>\n",
       "    </tr>\n",
       "    <tr>\n",
       "      <th>1</th>\n",
       "      <td>oct</td>\n",
       "      <td>tue</td>\n",
       "      <td>90.6</td>\n",
       "      <td>35.4</td>\n",
       "      <td>669.1</td>\n",
       "      <td>6.7</td>\n",
       "      <td>18.0</td>\n",
       "      <td>33</td>\n",
       "      <td>0.9</td>\n",
       "      <td>0.0</td>\n",
       "      <td>...</td>\n",
       "      <td>0</td>\n",
       "      <td>0</td>\n",
       "      <td>0</td>\n",
       "      <td>0</td>\n",
       "      <td>0</td>\n",
       "      <td>0</td>\n",
       "      <td>0</td>\n",
       "      <td>1</td>\n",
       "      <td>0</td>\n",
       "      <td>small</td>\n",
       "    </tr>\n",
       "    <tr>\n",
       "      <th>2</th>\n",
       "      <td>oct</td>\n",
       "      <td>sat</td>\n",
       "      <td>90.6</td>\n",
       "      <td>43.7</td>\n",
       "      <td>686.9</td>\n",
       "      <td>6.7</td>\n",
       "      <td>14.6</td>\n",
       "      <td>33</td>\n",
       "      <td>1.3</td>\n",
       "      <td>0.0</td>\n",
       "      <td>...</td>\n",
       "      <td>0</td>\n",
       "      <td>0</td>\n",
       "      <td>0</td>\n",
       "      <td>0</td>\n",
       "      <td>0</td>\n",
       "      <td>0</td>\n",
       "      <td>0</td>\n",
       "      <td>1</td>\n",
       "      <td>0</td>\n",
       "      <td>small</td>\n",
       "    </tr>\n",
       "    <tr>\n",
       "      <th>3</th>\n",
       "      <td>mar</td>\n",
       "      <td>fri</td>\n",
       "      <td>91.7</td>\n",
       "      <td>33.3</td>\n",
       "      <td>77.5</td>\n",
       "      <td>9.0</td>\n",
       "      <td>8.3</td>\n",
       "      <td>97</td>\n",
       "      <td>4.0</td>\n",
       "      <td>0.2</td>\n",
       "      <td>...</td>\n",
       "      <td>0</td>\n",
       "      <td>0</td>\n",
       "      <td>0</td>\n",
       "      <td>0</td>\n",
       "      <td>1</td>\n",
       "      <td>0</td>\n",
       "      <td>0</td>\n",
       "      <td>0</td>\n",
       "      <td>0</td>\n",
       "      <td>small</td>\n",
       "    </tr>\n",
       "    <tr>\n",
       "      <th>4</th>\n",
       "      <td>mar</td>\n",
       "      <td>sun</td>\n",
       "      <td>89.3</td>\n",
       "      <td>51.3</td>\n",
       "      <td>102.2</td>\n",
       "      <td>9.6</td>\n",
       "      <td>11.4</td>\n",
       "      <td>99</td>\n",
       "      <td>1.8</td>\n",
       "      <td>0.0</td>\n",
       "      <td>...</td>\n",
       "      <td>0</td>\n",
       "      <td>0</td>\n",
       "      <td>0</td>\n",
       "      <td>0</td>\n",
       "      <td>1</td>\n",
       "      <td>0</td>\n",
       "      <td>0</td>\n",
       "      <td>0</td>\n",
       "      <td>0</td>\n",
       "      <td>small</td>\n",
       "    </tr>\n",
       "  </tbody>\n",
       "</table>\n",
       "<p>5 rows × 31 columns</p>\n",
       "</div>"
      ],
      "text/plain": [
       "  month  day  FFMC   DMC     DC  ISI  temp  RH  wind  rain  ...  monthfeb  \\\n",
       "0   mar  fri  86.2  26.2   94.3  5.1   8.2  51   6.7   0.0  ...         0   \n",
       "1   oct  tue  90.6  35.4  669.1  6.7  18.0  33   0.9   0.0  ...         0   \n",
       "2   oct  sat  90.6  43.7  686.9  6.7  14.6  33   1.3   0.0  ...         0   \n",
       "3   mar  fri  91.7  33.3   77.5  9.0   8.3  97   4.0   0.2  ...         0   \n",
       "4   mar  sun  89.3  51.3  102.2  9.6  11.4  99   1.8   0.0  ...         0   \n",
       "\n",
       "   monthjan  monthjul  monthjun  monthmar  monthmay  monthnov  monthoct  \\\n",
       "0         0         0         0         1         0         0         0   \n",
       "1         0         0         0         0         0         0         1   \n",
       "2         0         0         0         0         0         0         1   \n",
       "3         0         0         0         1         0         0         0   \n",
       "4         0         0         0         1         0         0         0   \n",
       "\n",
       "   monthsep  size_category  \n",
       "0         0          small  \n",
       "1         0          small  \n",
       "2         0          small  \n",
       "3         0          small  \n",
       "4         0          small  \n",
       "\n",
       "[5 rows x 31 columns]"
      ]
     },
     "execution_count": 44,
     "metadata": {},
     "output_type": "execute_result"
    }
   ],
   "source": [
    "df.head()"
   ]
  },
  {
   "cell_type": "code",
   "execution_count": 45,
   "id": "c3c24846",
   "metadata": {
    "ExecuteTime": {
     "end_time": "2024-03-08T09:00:46.742110Z",
     "start_time": "2024-03-08T09:00:46.597321Z"
    }
   },
   "outputs": [],
   "source": [
    "df.drop(columns=['month', 'day'], axis= 1, inplace=True)"
   ]
  },
  {
   "cell_type": "code",
   "execution_count": 46,
   "id": "2eb26217",
   "metadata": {
    "ExecuteTime": {
     "end_time": "2024-03-08T09:00:52.335726Z",
     "start_time": "2024-03-08T09:00:52.297204Z"
    }
   },
   "outputs": [
    {
     "data": {
      "text/html": [
       "<div>\n",
       "<style scoped>\n",
       "    .dataframe tbody tr th:only-of-type {\n",
       "        vertical-align: middle;\n",
       "    }\n",
       "\n",
       "    .dataframe tbody tr th {\n",
       "        vertical-align: top;\n",
       "    }\n",
       "\n",
       "    .dataframe thead th {\n",
       "        text-align: right;\n",
       "    }\n",
       "</style>\n",
       "<table border=\"1\" class=\"dataframe\">\n",
       "  <thead>\n",
       "    <tr style=\"text-align: right;\">\n",
       "      <th></th>\n",
       "      <th>FFMC</th>\n",
       "      <th>DMC</th>\n",
       "      <th>DC</th>\n",
       "      <th>ISI</th>\n",
       "      <th>temp</th>\n",
       "      <th>RH</th>\n",
       "      <th>wind</th>\n",
       "      <th>rain</th>\n",
       "      <th>area</th>\n",
       "      <th>dayfri</th>\n",
       "      <th>...</th>\n",
       "      <th>monthfeb</th>\n",
       "      <th>monthjan</th>\n",
       "      <th>monthjul</th>\n",
       "      <th>monthjun</th>\n",
       "      <th>monthmar</th>\n",
       "      <th>monthmay</th>\n",
       "      <th>monthnov</th>\n",
       "      <th>monthoct</th>\n",
       "      <th>monthsep</th>\n",
       "      <th>size_category</th>\n",
       "    </tr>\n",
       "  </thead>\n",
       "  <tbody>\n",
       "    <tr>\n",
       "      <th>0</th>\n",
       "      <td>86.2</td>\n",
       "      <td>26.2</td>\n",
       "      <td>94.3</td>\n",
       "      <td>5.1</td>\n",
       "      <td>8.2</td>\n",
       "      <td>51</td>\n",
       "      <td>6.7</td>\n",
       "      <td>0.0</td>\n",
       "      <td>0.0</td>\n",
       "      <td>1</td>\n",
       "      <td>...</td>\n",
       "      <td>0</td>\n",
       "      <td>0</td>\n",
       "      <td>0</td>\n",
       "      <td>0</td>\n",
       "      <td>1</td>\n",
       "      <td>0</td>\n",
       "      <td>0</td>\n",
       "      <td>0</td>\n",
       "      <td>0</td>\n",
       "      <td>small</td>\n",
       "    </tr>\n",
       "    <tr>\n",
       "      <th>1</th>\n",
       "      <td>90.6</td>\n",
       "      <td>35.4</td>\n",
       "      <td>669.1</td>\n",
       "      <td>6.7</td>\n",
       "      <td>18.0</td>\n",
       "      <td>33</td>\n",
       "      <td>0.9</td>\n",
       "      <td>0.0</td>\n",
       "      <td>0.0</td>\n",
       "      <td>0</td>\n",
       "      <td>...</td>\n",
       "      <td>0</td>\n",
       "      <td>0</td>\n",
       "      <td>0</td>\n",
       "      <td>0</td>\n",
       "      <td>0</td>\n",
       "      <td>0</td>\n",
       "      <td>0</td>\n",
       "      <td>1</td>\n",
       "      <td>0</td>\n",
       "      <td>small</td>\n",
       "    </tr>\n",
       "  </tbody>\n",
       "</table>\n",
       "<p>2 rows × 29 columns</p>\n",
       "</div>"
      ],
      "text/plain": [
       "   FFMC   DMC     DC  ISI  temp  RH  wind  rain  area  dayfri  ...  monthfeb  \\\n",
       "0  86.2  26.2   94.3  5.1   8.2  51   6.7   0.0   0.0       1  ...         0   \n",
       "1  90.6  35.4  669.1  6.7  18.0  33   0.9   0.0   0.0       0  ...         0   \n",
       "\n",
       "   monthjan  monthjul  monthjun  monthmar  monthmay  monthnov  monthoct  \\\n",
       "0         0         0         0         1         0         0         0   \n",
       "1         0         0         0         0         0         0         1   \n",
       "\n",
       "   monthsep  size_category  \n",
       "0         0          small  \n",
       "1         0          small  \n",
       "\n",
       "[2 rows x 29 columns]"
      ]
     },
     "execution_count": 46,
     "metadata": {},
     "output_type": "execute_result"
    }
   ],
   "source": [
    "df.head(2)"
   ]
  },
  {
   "cell_type": "code",
   "execution_count": 47,
   "id": "e01b6430",
   "metadata": {
    "ExecuteTime": {
     "end_time": "2024-03-08T09:02:19.172473Z",
     "start_time": "2024-03-08T09:02:19.161328Z"
    }
   },
   "outputs": [],
   "source": [
    "df['size_category'] = np.where(df['size_category'] =='small', 0, 1)\n"
   ]
  },
  {
   "cell_type": "code",
   "execution_count": 48,
   "id": "cda7201b",
   "metadata": {
    "ExecuteTime": {
     "end_time": "2024-03-08T09:02:36.255084Z",
     "start_time": "2024-03-08T09:02:36.183824Z"
    }
   },
   "outputs": [
    {
     "data": {
      "text/html": [
       "<div>\n",
       "<style scoped>\n",
       "    .dataframe tbody tr th:only-of-type {\n",
       "        vertical-align: middle;\n",
       "    }\n",
       "\n",
       "    .dataframe tbody tr th {\n",
       "        vertical-align: top;\n",
       "    }\n",
       "\n",
       "    .dataframe thead th {\n",
       "        text-align: right;\n",
       "    }\n",
       "</style>\n",
       "<table border=\"1\" class=\"dataframe\">\n",
       "  <thead>\n",
       "    <tr style=\"text-align: right;\">\n",
       "      <th></th>\n",
       "      <th>FFMC</th>\n",
       "      <th>DMC</th>\n",
       "      <th>DC</th>\n",
       "      <th>ISI</th>\n",
       "      <th>temp</th>\n",
       "      <th>RH</th>\n",
       "      <th>wind</th>\n",
       "      <th>rain</th>\n",
       "      <th>area</th>\n",
       "      <th>dayfri</th>\n",
       "      <th>...</th>\n",
       "      <th>monthfeb</th>\n",
       "      <th>monthjan</th>\n",
       "      <th>monthjul</th>\n",
       "      <th>monthjun</th>\n",
       "      <th>monthmar</th>\n",
       "      <th>monthmay</th>\n",
       "      <th>monthnov</th>\n",
       "      <th>monthoct</th>\n",
       "      <th>monthsep</th>\n",
       "      <th>size_category</th>\n",
       "    </tr>\n",
       "  </thead>\n",
       "  <tbody>\n",
       "    <tr>\n",
       "      <th>0</th>\n",
       "      <td>86.2</td>\n",
       "      <td>26.2</td>\n",
       "      <td>94.3</td>\n",
       "      <td>5.1</td>\n",
       "      <td>8.2</td>\n",
       "      <td>51</td>\n",
       "      <td>6.7</td>\n",
       "      <td>0.0</td>\n",
       "      <td>0.0</td>\n",
       "      <td>1</td>\n",
       "      <td>...</td>\n",
       "      <td>0</td>\n",
       "      <td>0</td>\n",
       "      <td>0</td>\n",
       "      <td>0</td>\n",
       "      <td>1</td>\n",
       "      <td>0</td>\n",
       "      <td>0</td>\n",
       "      <td>0</td>\n",
       "      <td>0</td>\n",
       "      <td>0</td>\n",
       "    </tr>\n",
       "    <tr>\n",
       "      <th>1</th>\n",
       "      <td>90.6</td>\n",
       "      <td>35.4</td>\n",
       "      <td>669.1</td>\n",
       "      <td>6.7</td>\n",
       "      <td>18.0</td>\n",
       "      <td>33</td>\n",
       "      <td>0.9</td>\n",
       "      <td>0.0</td>\n",
       "      <td>0.0</td>\n",
       "      <td>0</td>\n",
       "      <td>...</td>\n",
       "      <td>0</td>\n",
       "      <td>0</td>\n",
       "      <td>0</td>\n",
       "      <td>0</td>\n",
       "      <td>0</td>\n",
       "      <td>0</td>\n",
       "      <td>0</td>\n",
       "      <td>1</td>\n",
       "      <td>0</td>\n",
       "      <td>0</td>\n",
       "    </tr>\n",
       "    <tr>\n",
       "      <th>2</th>\n",
       "      <td>90.6</td>\n",
       "      <td>43.7</td>\n",
       "      <td>686.9</td>\n",
       "      <td>6.7</td>\n",
       "      <td>14.6</td>\n",
       "      <td>33</td>\n",
       "      <td>1.3</td>\n",
       "      <td>0.0</td>\n",
       "      <td>0.0</td>\n",
       "      <td>0</td>\n",
       "      <td>...</td>\n",
       "      <td>0</td>\n",
       "      <td>0</td>\n",
       "      <td>0</td>\n",
       "      <td>0</td>\n",
       "      <td>0</td>\n",
       "      <td>0</td>\n",
       "      <td>0</td>\n",
       "      <td>1</td>\n",
       "      <td>0</td>\n",
       "      <td>0</td>\n",
       "    </tr>\n",
       "    <tr>\n",
       "      <th>3</th>\n",
       "      <td>91.7</td>\n",
       "      <td>33.3</td>\n",
       "      <td>77.5</td>\n",
       "      <td>9.0</td>\n",
       "      <td>8.3</td>\n",
       "      <td>97</td>\n",
       "      <td>4.0</td>\n",
       "      <td>0.2</td>\n",
       "      <td>0.0</td>\n",
       "      <td>1</td>\n",
       "      <td>...</td>\n",
       "      <td>0</td>\n",
       "      <td>0</td>\n",
       "      <td>0</td>\n",
       "      <td>0</td>\n",
       "      <td>1</td>\n",
       "      <td>0</td>\n",
       "      <td>0</td>\n",
       "      <td>0</td>\n",
       "      <td>0</td>\n",
       "      <td>0</td>\n",
       "    </tr>\n",
       "    <tr>\n",
       "      <th>4</th>\n",
       "      <td>89.3</td>\n",
       "      <td>51.3</td>\n",
       "      <td>102.2</td>\n",
       "      <td>9.6</td>\n",
       "      <td>11.4</td>\n",
       "      <td>99</td>\n",
       "      <td>1.8</td>\n",
       "      <td>0.0</td>\n",
       "      <td>0.0</td>\n",
       "      <td>0</td>\n",
       "      <td>...</td>\n",
       "      <td>0</td>\n",
       "      <td>0</td>\n",
       "      <td>0</td>\n",
       "      <td>0</td>\n",
       "      <td>1</td>\n",
       "      <td>0</td>\n",
       "      <td>0</td>\n",
       "      <td>0</td>\n",
       "      <td>0</td>\n",
       "      <td>0</td>\n",
       "    </tr>\n",
       "  </tbody>\n",
       "</table>\n",
       "<p>5 rows × 29 columns</p>\n",
       "</div>"
      ],
      "text/plain": [
       "   FFMC   DMC     DC  ISI  temp  RH  wind  rain  area  dayfri  ...  monthfeb  \\\n",
       "0  86.2  26.2   94.3  5.1   8.2  51   6.7   0.0   0.0       1  ...         0   \n",
       "1  90.6  35.4  669.1  6.7  18.0  33   0.9   0.0   0.0       0  ...         0   \n",
       "2  90.6  43.7  686.9  6.7  14.6  33   1.3   0.0   0.0       0  ...         0   \n",
       "3  91.7  33.3   77.5  9.0   8.3  97   4.0   0.2   0.0       1  ...         0   \n",
       "4  89.3  51.3  102.2  9.6  11.4  99   1.8   0.0   0.0       0  ...         0   \n",
       "\n",
       "   monthjan  monthjul  monthjun  monthmar  monthmay  monthnov  monthoct  \\\n",
       "0         0         0         0         1         0         0         0   \n",
       "1         0         0         0         0         0         0         1   \n",
       "2         0         0         0         0         0         0         1   \n",
       "3         0         0         0         1         0         0         0   \n",
       "4         0         0         0         1         0         0         0   \n",
       "\n",
       "   monthsep  size_category  \n",
       "0         0              0  \n",
       "1         0              0  \n",
       "2         0              0  \n",
       "3         0              0  \n",
       "4         0              0  \n",
       "\n",
       "[5 rows x 29 columns]"
      ]
     },
     "execution_count": 48,
     "metadata": {},
     "output_type": "execute_result"
    }
   ],
   "source": [
    "df.head()"
   ]
  },
  {
   "cell_type": "code",
   "execution_count": 49,
   "id": "7593a00e",
   "metadata": {
    "ExecuteTime": {
     "end_time": "2024-03-08T09:03:15.938885Z",
     "start_time": "2024-03-08T09:03:15.880762Z"
    }
   },
   "outputs": [
    {
     "data": {
      "text/plain": [
       "size_category\n",
       "0    378\n",
       "1    139\n",
       "Name: count, dtype: int64"
      ]
     },
     "execution_count": 49,
     "metadata": {},
     "output_type": "execute_result"
    }
   ],
   "source": [
    "df.size_category.value_counts()"
   ]
  },
  {
   "cell_type": "markdown",
   "id": "f8331763",
   "metadata": {},
   "source": [
    "## Model preparation"
   ]
  },
  {
   "cell_type": "code",
   "execution_count": 50,
   "id": "91dfd76d",
   "metadata": {
    "ExecuteTime": {
     "end_time": "2024-03-08T09:04:01.727266Z",
     "start_time": "2024-03-08T09:04:01.716732Z"
    }
   },
   "outputs": [
    {
     "data": {
      "text/plain": [
       "(517, 29)"
      ]
     },
     "execution_count": 50,
     "metadata": {},
     "output_type": "execute_result"
    }
   ],
   "source": [
    "df.shape"
   ]
  },
  {
   "cell_type": "code",
   "execution_count": 152,
   "id": "49df3dc8",
   "metadata": {
    "ExecuteTime": {
     "end_time": "2024-03-08T13:03:55.387108Z",
     "start_time": "2024-03-08T13:03:55.362817Z"
    }
   },
   "outputs": [],
   "source": [
    "x = df.iloc[:,:28]\n",
    "y = df.iloc[:,[28]]"
   ]
  },
  {
   "cell_type": "code",
   "execution_count": 153,
   "id": "11932f9d",
   "metadata": {
    "ExecuteTime": {
     "end_time": "2024-03-08T13:03:58.603861Z",
     "start_time": "2024-03-08T13:03:58.589677Z"
    }
   },
   "outputs": [],
   "source": [
    "## splitting the data into train and test\n",
    "from sklearn.model_selection import train_test_split\n",
    "xtrain , xtest, ytrain, ytest = train_test_split(x, y, test_size=0.3, random_state=42)"
   ]
  },
  {
   "cell_type": "code",
   "execution_count": 112,
   "id": "09be2199",
   "metadata": {
    "ExecuteTime": {
     "end_time": "2024-03-08T10:28:00.587448Z",
     "start_time": "2024-03-08T10:28:00.580575Z"
    }
   },
   "outputs": [
    {
     "data": {
      "text/plain": [
       "((361, 28), (156, 28))"
      ]
     },
     "execution_count": 112,
     "metadata": {},
     "output_type": "execute_result"
    }
   ],
   "source": [
    "xtrain.shape, xtest.shape"
   ]
  },
  {
   "cell_type": "code",
   "execution_count": 63,
   "id": "8f75e51a",
   "metadata": {
    "ExecuteTime": {
     "end_time": "2024-03-08T09:09:35.333414Z",
     "start_time": "2024-03-08T09:09:35.291958Z"
    }
   },
   "outputs": [
    {
     "data": {
      "text/html": [
       "<div>\n",
       "<style scoped>\n",
       "    .dataframe tbody tr th:only-of-type {\n",
       "        vertical-align: middle;\n",
       "    }\n",
       "\n",
       "    .dataframe tbody tr th {\n",
       "        vertical-align: top;\n",
       "    }\n",
       "\n",
       "    .dataframe thead th {\n",
       "        text-align: right;\n",
       "    }\n",
       "</style>\n",
       "<table border=\"1\" class=\"dataframe\">\n",
       "  <thead>\n",
       "    <tr style=\"text-align: right;\">\n",
       "      <th></th>\n",
       "      <th>FFMC</th>\n",
       "      <th>DMC</th>\n",
       "      <th>DC</th>\n",
       "      <th>ISI</th>\n",
       "      <th>temp</th>\n",
       "      <th>RH</th>\n",
       "      <th>wind</th>\n",
       "      <th>rain</th>\n",
       "      <th>area</th>\n",
       "      <th>dayfri</th>\n",
       "      <th>...</th>\n",
       "      <th>monthdec</th>\n",
       "      <th>monthfeb</th>\n",
       "      <th>monthjan</th>\n",
       "      <th>monthjul</th>\n",
       "      <th>monthjun</th>\n",
       "      <th>monthmar</th>\n",
       "      <th>monthmay</th>\n",
       "      <th>monthnov</th>\n",
       "      <th>monthoct</th>\n",
       "      <th>monthsep</th>\n",
       "    </tr>\n",
       "  </thead>\n",
       "  <tbody>\n",
       "    <tr>\n",
       "      <th>311</th>\n",
       "      <td>92.4</td>\n",
       "      <td>105.8</td>\n",
       "      <td>758.1</td>\n",
       "      <td>9.9</td>\n",
       "      <td>24.8</td>\n",
       "      <td>28</td>\n",
       "      <td>1.8</td>\n",
       "      <td>0.0</td>\n",
       "      <td>14.29</td>\n",
       "      <td>0</td>\n",
       "      <td>...</td>\n",
       "      <td>0</td>\n",
       "      <td>0</td>\n",
       "      <td>0</td>\n",
       "      <td>0</td>\n",
       "      <td>0</td>\n",
       "      <td>0</td>\n",
       "      <td>0</td>\n",
       "      <td>0</td>\n",
       "      <td>0</td>\n",
       "      <td>1</td>\n",
       "    </tr>\n",
       "    <tr>\n",
       "      <th>368</th>\n",
       "      <td>91.2</td>\n",
       "      <td>94.3</td>\n",
       "      <td>744.4</td>\n",
       "      <td>8.4</td>\n",
       "      <td>16.8</td>\n",
       "      <td>47</td>\n",
       "      <td>4.9</td>\n",
       "      <td>0.0</td>\n",
       "      <td>12.64</td>\n",
       "      <td>0</td>\n",
       "      <td>...</td>\n",
       "      <td>0</td>\n",
       "      <td>0</td>\n",
       "      <td>0</td>\n",
       "      <td>0</td>\n",
       "      <td>0</td>\n",
       "      <td>0</td>\n",
       "      <td>0</td>\n",
       "      <td>0</td>\n",
       "      <td>0</td>\n",
       "      <td>1</td>\n",
       "    </tr>\n",
       "    <tr>\n",
       "      <th>23</th>\n",
       "      <td>90.2</td>\n",
       "      <td>110.9</td>\n",
       "      <td>537.4</td>\n",
       "      <td>6.2</td>\n",
       "      <td>19.5</td>\n",
       "      <td>43</td>\n",
       "      <td>5.8</td>\n",
       "      <td>0.0</td>\n",
       "      <td>0.00</td>\n",
       "      <td>0</td>\n",
       "      <td>...</td>\n",
       "      <td>0</td>\n",
       "      <td>0</td>\n",
       "      <td>0</td>\n",
       "      <td>0</td>\n",
       "      <td>0</td>\n",
       "      <td>0</td>\n",
       "      <td>0</td>\n",
       "      <td>0</td>\n",
       "      <td>0</td>\n",
       "      <td>0</td>\n",
       "    </tr>\n",
       "    <tr>\n",
       "      <th>271</th>\n",
       "      <td>92.1</td>\n",
       "      <td>152.6</td>\n",
       "      <td>658.2</td>\n",
       "      <td>14.3</td>\n",
       "      <td>20.1</td>\n",
       "      <td>58</td>\n",
       "      <td>4.5</td>\n",
       "      <td>0.0</td>\n",
       "      <td>9.27</td>\n",
       "      <td>0</td>\n",
       "      <td>...</td>\n",
       "      <td>0</td>\n",
       "      <td>0</td>\n",
       "      <td>0</td>\n",
       "      <td>0</td>\n",
       "      <td>0</td>\n",
       "      <td>0</td>\n",
       "      <td>0</td>\n",
       "      <td>0</td>\n",
       "      <td>0</td>\n",
       "      <td>0</td>\n",
       "    </tr>\n",
       "    <tr>\n",
       "      <th>299</th>\n",
       "      <td>53.4</td>\n",
       "      <td>71.0</td>\n",
       "      <td>233.8</td>\n",
       "      <td>0.4</td>\n",
       "      <td>10.6</td>\n",
       "      <td>90</td>\n",
       "      <td>2.7</td>\n",
       "      <td>0.0</td>\n",
       "      <td>0.00</td>\n",
       "      <td>0</td>\n",
       "      <td>...</td>\n",
       "      <td>0</td>\n",
       "      <td>0</td>\n",
       "      <td>0</td>\n",
       "      <td>0</td>\n",
       "      <td>1</td>\n",
       "      <td>0</td>\n",
       "      <td>0</td>\n",
       "      <td>0</td>\n",
       "      <td>0</td>\n",
       "      <td>0</td>\n",
       "    </tr>\n",
       "  </tbody>\n",
       "</table>\n",
       "<p>5 rows × 28 columns</p>\n",
       "</div>"
      ],
      "text/plain": [
       "     FFMC    DMC     DC   ISI  temp  RH  wind  rain   area  dayfri  ...  \\\n",
       "311  92.4  105.8  758.1   9.9  24.8  28   1.8   0.0  14.29       0  ...   \n",
       "368  91.2   94.3  744.4   8.4  16.8  47   4.9   0.0  12.64       0  ...   \n",
       "23   90.2  110.9  537.4   6.2  19.5  43   5.8   0.0   0.00       0  ...   \n",
       "271  92.1  152.6  658.2  14.3  20.1  58   4.5   0.0   9.27       0  ...   \n",
       "299  53.4   71.0  233.8   0.4  10.6  90   2.7   0.0   0.00       0  ...   \n",
       "\n",
       "     monthdec  monthfeb  monthjan  monthjul  monthjun  monthmar  monthmay  \\\n",
       "311         0         0         0         0         0         0         0   \n",
       "368         0         0         0         0         0         0         0   \n",
       "23          0         0         0         0         0         0         0   \n",
       "271         0         0         0         0         0         0         0   \n",
       "299         0         0         0         0         1         0         0   \n",
       "\n",
       "     monthnov  monthoct  monthsep  \n",
       "311         0         0         1  \n",
       "368         0         0         1  \n",
       "23          0         0         0  \n",
       "271         0         0         0  \n",
       "299         0         0         0  \n",
       "\n",
       "[5 rows x 28 columns]"
      ]
     },
     "execution_count": 63,
     "metadata": {},
     "output_type": "execute_result"
    }
   ],
   "source": [
    "xtrain.head()"
   ]
  },
  {
   "cell_type": "code",
   "execution_count": 65,
   "id": "693ba954",
   "metadata": {
    "ExecuteTime": {
     "end_time": "2024-03-08T09:10:12.985940Z",
     "start_time": "2024-03-08T09:10:12.977873Z"
    }
   },
   "outputs": [],
   "source": [
    "from sklearn.preprocessing import StandardScaler\n",
    "scaler = StandardScaler()"
   ]
  },
  {
   "cell_type": "code",
   "execution_count": 66,
   "id": "23794ba0",
   "metadata": {
    "ExecuteTime": {
     "end_time": "2024-03-08T09:10:55.342493Z",
     "start_time": "2024-03-08T09:10:55.252686Z"
    }
   },
   "outputs": [],
   "source": [
    "xtrains = scaler.fit_transform(xtrain)\n",
    "xtests = scaler.transform(xtest)"
   ]
  },
  {
   "cell_type": "code",
   "execution_count": 154,
   "id": "56cb8707",
   "metadata": {
    "ExecuteTime": {
     "end_time": "2024-03-08T13:04:06.188854Z",
     "start_time": "2024-03-08T13:04:06.169668Z"
    }
   },
   "outputs": [
    {
     "data": {
      "text/html": [
       "<div>\n",
       "<style scoped>\n",
       "    .dataframe tbody tr th:only-of-type {\n",
       "        vertical-align: middle;\n",
       "    }\n",
       "\n",
       "    .dataframe tbody tr th {\n",
       "        vertical-align: top;\n",
       "    }\n",
       "\n",
       "    .dataframe thead th {\n",
       "        text-align: right;\n",
       "    }\n",
       "</style>\n",
       "<table border=\"1\" class=\"dataframe\">\n",
       "  <thead>\n",
       "    <tr style=\"text-align: right;\">\n",
       "      <th></th>\n",
       "      <th>size_category</th>\n",
       "    </tr>\n",
       "  </thead>\n",
       "  <tbody>\n",
       "    <tr>\n",
       "      <th>311</th>\n",
       "      <td>1</td>\n",
       "    </tr>\n",
       "    <tr>\n",
       "      <th>368</th>\n",
       "      <td>1</td>\n",
       "    </tr>\n",
       "    <tr>\n",
       "      <th>23</th>\n",
       "      <td>0</td>\n",
       "    </tr>\n",
       "    <tr>\n",
       "      <th>271</th>\n",
       "      <td>1</td>\n",
       "    </tr>\n",
       "    <tr>\n",
       "      <th>299</th>\n",
       "      <td>0</td>\n",
       "    </tr>\n",
       "    <tr>\n",
       "      <th>...</th>\n",
       "      <td>...</td>\n",
       "    </tr>\n",
       "    <tr>\n",
       "      <th>71</th>\n",
       "      <td>0</td>\n",
       "    </tr>\n",
       "    <tr>\n",
       "      <th>106</th>\n",
       "      <td>0</td>\n",
       "    </tr>\n",
       "    <tr>\n",
       "      <th>270</th>\n",
       "      <td>0</td>\n",
       "    </tr>\n",
       "    <tr>\n",
       "      <th>435</th>\n",
       "      <td>0</td>\n",
       "    </tr>\n",
       "    <tr>\n",
       "      <th>102</th>\n",
       "      <td>0</td>\n",
       "    </tr>\n",
       "  </tbody>\n",
       "</table>\n",
       "<p>361 rows × 1 columns</p>\n",
       "</div>"
      ],
      "text/plain": [
       "     size_category\n",
       "311              1\n",
       "368              1\n",
       "23               0\n",
       "271              1\n",
       "299              0\n",
       "..             ...\n",
       "71               0\n",
       "106              0\n",
       "270              0\n",
       "435              0\n",
       "102              0\n",
       "\n",
       "[361 rows x 1 columns]"
      ]
     },
     "execution_count": 154,
     "metadata": {},
     "output_type": "execute_result"
    }
   ],
   "source": [
    "ytrain"
   ]
  },
  {
   "cell_type": "code",
   "execution_count": 88,
   "id": "60906b5a",
   "metadata": {
    "ExecuteTime": {
     "end_time": "2024-03-08T10:05:48.261788Z",
     "start_time": "2024-03-08T10:05:47.201236Z"
    }
   },
   "outputs": [
    {
     "name": "stderr",
     "output_type": "stream",
     "text": [
      "C:\\Temp\\ipykernel_9912\\3708417771.py:2: MatplotlibDeprecationWarning: Auto-removal of overlapping axes is deprecated since 3.6 and will be removed two minor releases later; explicitly call ax.remove() as needed.\n",
      "  plt.subplot(1, 2, 1)\n"
     ]
    },
    {
     "data": {
      "text/plain": [
       "Text(0.5, 1.0, 'X_train After Scaling')"
      ]
     },
     "execution_count": 88,
     "metadata": {},
     "output_type": "execute_result"
    },
    {
     "data": {
      "image/png": "[encoded data removed]",
      "text/plain": [
       "<Figure size 1500x700 with 2 Axes>"
      ]
     },
     "metadata": {},
     "output_type": "display_data"
    }
   ],
   "source": [
    "\n",
    "plt.subplots(figsize=(15, 7))\n",
    "plt.subplot(1, 2, 1)\n",
    "sns.boxplot(data=xtrain)\n",
    "plt.title('X_train Before Scaling')\n",
    "plt.subplot(1, 2, 2)\n",
    "sns.boxplot(data=xtrains)\n",
    "plt.title('X_train After Scaling')"
   ]
  },
  {
   "cell_type": "code",
   "execution_count": 68,
   "id": "eab12f3d",
   "metadata": {
    "ExecuteTime": {
     "end_time": "2024-03-08T09:17:18.134052Z",
     "start_time": "2024-03-08T09:17:18.107188Z"
    }
   },
   "outputs": [],
   "source": [
    "import keras\n",
    "import scikeras\n",
    "import tensorflow\n"
   ]
  },
  {
   "cell_type": "code",
   "execution_count": 95,
   "id": "1bfbe507",
   "metadata": {
    "ExecuteTime": {
     "end_time": "2024-03-08T10:15:44.098987Z",
     "start_time": "2024-03-08T10:15:44.094579Z"
    }
   },
   "outputs": [],
   "source": [
    "from keras.models import Sequential\n",
    "from keras.layers import Dense\n",
    "from keras.layers import Activation\n",
    "from keras import optimizers\n",
    "from scikeras.wrappers import KerasClassifier"
   ]
  },
  {
   "cell_type": "code",
   "execution_count": 158,
   "id": "73551097",
   "metadata": {
    "ExecuteTime": {
     "end_time": "2024-03-08T13:04:53.486701Z",
     "start_time": "2024-03-08T13:04:53.475351Z"
    }
   },
   "outputs": [],
   "source": [
    "# Function to create Keras model\n",
    "def create_model():\n",
    "    model = Sequential()\n",
    "    model.add(Dense(40, input_dim=28 ,activation='relu'))\n",
    "    model.add(Dense(15, activation='relu'))\n",
    "    model.add(Dense(1, activation='sigmoid'))\n",
    "    model.compile(optimizer='adam', loss='binary_crossentropy', metrics=['accuracy'])\n",
    "    return model\n"
   ]
  },
  {
   "cell_type": "code",
   "execution_count": 159,
   "id": "86abdbab",
   "metadata": {
    "ExecuteTime": {
     "end_time": "2024-03-08T13:04:55.404126Z",
     "start_time": "2024-03-08T13:04:55.396837Z"
    }
   },
   "outputs": [],
   "source": [
    "# Create KerasClassifier\n",
    "keras_model = KerasClassifier(build_fn=create_model, epochs=50, batch_size=10, verbose=1)"
   ]
  },
  {
   "cell_type": "code",
   "execution_count": 160,
   "id": "1a338122",
   "metadata": {
    "ExecuteTime": {
     "end_time": "2024-03-08T13:05:17.145202Z",
     "start_time": "2024-03-08T13:04:57.783351Z"
    }
   },
   "outputs": [
    {
     "name": "stderr",
     "output_type": "stream",
     "text": [
      "C:\\Users\\Suresh Goud\\anaconda3\\Lib\\site-packages\\scikeras\\wrappers.py:915: UserWarning: ``build_fn`` will be renamed to ``model`` in a future release, at which point use of ``build_fn`` will raise an Error instead.\n",
      "  X, y = self._initialize(X, y)\n"
     ]
    },
    {
     "name": "stdout",
     "output_type": "stream",
     "text": [
      "Epoch 1/50\n",
      "37/37 [==============================] - 4s 12ms/step - loss: 0.6371 - accuracy: 0.6981\n",
      "Epoch 2/50\n",
      "37/37 [==============================] - 0s 8ms/step - loss: 0.5810 - accuracy: 0.7285\n",
      "Epoch 3/50\n",
      "37/37 [==============================] - 0s 8ms/step - loss: 0.5506 - accuracy: 0.7285\n",
      "Epoch 4/50\n",
      "37/37 [==============================] - 0s 7ms/step - loss: 0.5288 - accuracy: 0.7507\n",
      "Epoch 5/50\n",
      "37/37 [==============================] - 0s 9ms/step - loss: 0.5090 - accuracy: 0.7479\n",
      "Epoch 6/50\n",
      "37/37 [==============================] - 0s 7ms/step - loss: 0.4863 - accuracy: 0.7673\n",
      "Epoch 7/50\n",
      "37/37 [==============================] - 0s 8ms/step - loss: 0.4698 - accuracy: 0.7839\n",
      "Epoch 8/50\n",
      "37/37 [==============================] - 0s 8ms/step - loss: 0.4510 - accuracy: 0.7867\n",
      "Epoch 9/50\n",
      "37/37 [==============================] - 0s 8ms/step - loss: 0.4338 - accuracy: 0.7922\n",
      "Epoch 10/50\n",
      "37/37 [==============================] - 0s 8ms/step - loss: 0.4159 - accuracy: 0.8089\n",
      "Epoch 11/50\n",
      "37/37 [==============================] - 0s 8ms/step - loss: 0.3987 - accuracy: 0.8338\n",
      "Epoch 12/50\n",
      "37/37 [==============================] - 0s 6ms/step - loss: 0.3819 - accuracy: 0.8255\n",
      "Epoch 13/50\n",
      "37/37 [==============================] - 0s 6ms/step - loss: 0.3622 - accuracy: 0.8366\n",
      "Epoch 14/50\n",
      "37/37 [==============================] - 0s 8ms/step - loss: 0.3428 - accuracy: 0.8532\n",
      "Epoch 15/50\n",
      "37/37 [==============================] - 0s 8ms/step - loss: 0.3257 - accuracy: 0.8670\n",
      "Epoch 16/50\n",
      "37/37 [==============================] - 0s 9ms/step - loss: 0.3091 - accuracy: 0.8698\n",
      "Epoch 17/50\n",
      "37/37 [==============================] - 0s 8ms/step - loss: 0.2876 - accuracy: 0.8864\n",
      "Epoch 18/50\n",
      "37/37 [==============================] - 0s 9ms/step - loss: 0.2720 - accuracy: 0.8920\n",
      "Epoch 19/50\n",
      "37/37 [==============================] - 0s 6ms/step - loss: 0.2546 - accuracy: 0.8975\n",
      "Epoch 20/50\n",
      "37/37 [==============================] - 0s 8ms/step - loss: 0.2398 - accuracy: 0.9030\n",
      "Epoch 21/50\n",
      "37/37 [==============================] - 0s 8ms/step - loss: 0.2246 - accuracy: 0.9058\n",
      "Epoch 22/50\n",
      "37/37 [==============================] - 0s 7ms/step - loss: 0.2105 - accuracy: 0.9280\n",
      "Epoch 23/50\n",
      "37/37 [==============================] - 0s 8ms/step - loss: 0.1979 - accuracy: 0.9197\n",
      "Epoch 24/50\n",
      "37/37 [==============================] - 0s 8ms/step - loss: 0.1820 - accuracy: 0.9391\n",
      "Epoch 25/50\n",
      "37/37 [==============================] - 0s 8ms/step - loss: 0.1741 - accuracy: 0.9252\n",
      "Epoch 26/50\n",
      "37/37 [==============================] - 0s 8ms/step - loss: 0.1631 - accuracy: 0.9557\n",
      "Epoch 27/50\n",
      "37/37 [==============================] - 0s 8ms/step - loss: 0.1639 - accuracy: 0.9584\n",
      "Epoch 28/50\n",
      "37/37 [==============================] - 0s 8ms/step - loss: 0.1396 - accuracy: 0.9557\n",
      "Epoch 29/50\n",
      "37/37 [==============================] - 0s 7ms/step - loss: 0.1272 - accuracy: 0.9529\n",
      "Epoch 30/50\n",
      "37/37 [==============================] - 0s 8ms/step - loss: 0.1184 - accuracy: 0.9584\n",
      "Epoch 31/50\n",
      "37/37 [==============================] - 0s 8ms/step - loss: 0.1152 - accuracy: 0.9529\n",
      "Epoch 32/50\n",
      "37/37 [==============================] - 0s 7ms/step - loss: 0.1056 - accuracy: 0.9668\n",
      "Epoch 33/50\n",
      "37/37 [==============================] - 0s 7ms/step - loss: 0.0983 - accuracy: 0.9640\n",
      "Epoch 34/50\n",
      "37/37 [==============================] - 0s 8ms/step - loss: 0.0875 - accuracy: 0.9751\n",
      "Epoch 35/50\n",
      "37/37 [==============================] - 0s 8ms/step - loss: 0.0817 - accuracy: 0.9945\n",
      "Epoch 36/50\n",
      "37/37 [==============================] - 0s 7ms/step - loss: 0.0784 - accuracy: 0.9806\n",
      "Epoch 37/50\n",
      "37/37 [==============================] - 0s 8ms/step - loss: 0.0693 - accuracy: 0.9889\n",
      "Epoch 38/50\n",
      "37/37 [==============================] - 0s 8ms/step - loss: 0.0768 - accuracy: 0.9861\n",
      "Epoch 39/50\n",
      "37/37 [==============================] - 0s 9ms/step - loss: 0.0612 - accuracy: 0.9945\n",
      "Epoch 40/50\n",
      "37/37 [==============================] - 0s 8ms/step - loss: 0.0555 - accuracy: 0.9972\n",
      "Epoch 41/50\n",
      "37/37 [==============================] - 0s 6ms/step - loss: 0.0535 - accuracy: 0.9917\n",
      "Epoch 42/50\n",
      "37/37 [==============================] - 0s 9ms/step - loss: 0.0485 - accuracy: 0.9972\n",
      "Epoch 43/50\n",
      "37/37 [==============================] - 0s 9ms/step - loss: 0.0455 - accuracy: 0.9972\n",
      "Epoch 44/50\n",
      "37/37 [==============================] - 0s 9ms/step - loss: 0.0422 - accuracy: 1.0000\n",
      "Epoch 45/50\n",
      "37/37 [==============================] - 0s 9ms/step - loss: 0.0400 - accuracy: 1.0000\n",
      "Epoch 46/50\n",
      "37/37 [==============================] - 0s 8ms/step - loss: 0.0377 - accuracy: 1.0000\n",
      "Epoch 47/50\n",
      "37/37 [==============================] - 0s 9ms/step - loss: 0.0347 - accuracy: 1.0000\n",
      "Epoch 48/50\n",
      "37/37 [==============================] - 0s 9ms/step - loss: 0.0339 - accuracy: 1.0000\n",
      "Epoch 49/50\n",
      "37/37 [==============================] - 0s 10ms/step - loss: 0.0308 - accuracy: 1.0000\n",
      "Epoch 50/50\n",
      "37/37 [==============================] - 0s 8ms/step - loss: 0.0294 - accuracy: 1.0000\n"
     ]
    },
    {
     "data": {
      "text/html": [
       "<style>#sk-container-id-1 {color: black;}#sk-container-id-1 pre{padding: 0;}#sk-container-id-1 div.sk-toggleable {background-color: white;}#sk-container-id-1 label.sk-toggleable__label {cursor: pointer;display: block;width: 100%;margin-bottom: 0;padding: 0.3em;box-sizing: border-box;text-align: center;}#sk-container-id-1 label.sk-toggleable__label-arrow:before {content: \"▸\";float: left;margin-right: 0.25em;color: #696969;}#sk-container-id-1 label.sk-toggleable__label-arrow:hover:before {color: black;}#sk-container-id-1 div.sk-estimator:hover label.sk-toggleable__label-arrow:before {color: black;}#sk-container-id-1 div.sk-toggleable__content {max-height: 0;max-width: 0;overflow: hidden;text-align: left;background-color: #f0f8ff;}#sk-container-id-1 div.sk-toggleable__content pre {margin: 0.2em;color: black;border-radius: 0.25em;background-color: #f0f8ff;}#sk-container-id-1 input.sk-toggleable__control:checked~div.sk-toggleable__content {max-height: 200px;max-width: 100%;overflow: auto;}#sk-container-id-1 input.sk-toggleable__control:checked~label.sk-toggleable__label-arrow:before {content: \"▾\";}#sk-container-id-1 div.sk-estimator input.sk-toggleable__control:checked~label.sk-toggleable__label {background-color: #d4ebff;}#sk-container-id-1 div.sk-label input.sk-toggleable__control:checked~label.sk-toggleable__label {background-color: #d4ebff;}#sk-container-id-1 input.sk-hidden--visually {border: 0;clip: rect(1px 1px 1px 1px);clip: rect(1px, 1px, 1px, 1px);height: 1px;margin: -1px;overflow: hidden;padding: 0;position: absolute;width: 1px;}#sk-container-id-1 div.sk-estimator {font-family: monospace;background-color: #f0f8ff;border: 1px dotted black;border-radius: 0.25em;box-sizing: border-box;margin-bottom: 0.5em;}#sk-container-id-1 div.sk-estimator:hover {background-color: #d4ebff;}#sk-container-id-1 div.sk-parallel-item::after {content: \"\";width: 100%;border-bottom: 1px solid gray;flex-grow: 1;}#sk-container-id-1 div.sk-label:hover label.sk-toggleable__label {background-color: #d4ebff;}#sk-container-id-1 div.sk-serial::before {content: \"\";position: absolute;border-left: 1px solid gray;box-sizing: border-box;top: 0;bottom: 0;left: 50%;z-index: 0;}#sk-container-id-1 div.sk-serial {display: flex;flex-direction: column;align-items: center;background-color: white;padding-right: 0.2em;padding-left: 0.2em;position: relative;}#sk-container-id-1 div.sk-item {position: relative;z-index: 1;}#sk-container-id-1 div.sk-parallel {display: flex;align-items: stretch;justify-content: center;background-color: white;position: relative;}#sk-container-id-1 div.sk-item::before, #sk-container-id-1 div.sk-parallel-item::before {content: \"\";position: absolute;border-left: 1px solid gray;box-sizing: border-box;top: 0;bottom: 0;left: 50%;z-index: -1;}#sk-container-id-1 div.sk-parallel-item {display: flex;flex-direction: column;z-index: 1;position: relative;background-color: white;}#sk-container-id-1 div.sk-parallel-item:first-child::after {align-self: flex-end;width: 50%;}#sk-container-id-1 div.sk-parallel-item:last-child::after {align-self: flex-start;width: 50%;}#sk-container-id-1 div.sk-parallel-item:only-child::after {width: 0;}#sk-container-id-1 div.sk-dashed-wrapped {border: 1px dashed gray;margin: 0 0.4em 0.5em 0.4em;box-sizing: border-box;padding-bottom: 0.4em;background-color: white;}#sk-container-id-1 div.sk-label label {font-family: monospace;font-weight: bold;display: inline-block;line-height: 1.2em;}#sk-container-id-1 div.sk-label-container {text-align: center;}#sk-container-id-1 div.sk-container {/* jupyter's `normalize.less` sets `[hidden] { display: none; }` but bootstrap.min.css set `[hidden] { display: none !important; }` so we also need the `!important` here to be able to override the default hidden behavior on the sphinx rendered scikit-learn.org. See: https://github.com/scikit-learn/scikit-learn/issues/21755 */display: inline-block !important;position: relative;}#sk-container-id-1 div.sk-text-repr-fallback {display: none;}</style><div id=\"sk-container-id-1\" class=\"sk-top-container\"><div class=\"sk-text-repr-fallback\"><pre>KerasClassifier(\n",
       "\tmodel=None\n",
       "\tbuild_fn=&lt;function create_model at 0x000002959C29C0E0&gt;\n",
       "\twarm_start=False\n",
       "\trandom_state=None\n",
       "\toptimizer=rmsprop\n",
       "\tloss=None\n",
       "\tmetrics=None\n",
       "\tbatch_size=10\n",
       "\tvalidation_batch_size=None\n",
       "\tverbose=1\n",
       "\tcallbacks=None\n",
       "\tvalidation_split=0.0\n",
       "\tshuffle=True\n",
       "\trun_eagerly=False\n",
       "\tepochs=50\n",
       "\tclass_weight=None\n",
       ")</pre><b>In a Jupyter environment, please rerun this cell to show the HTML representation or trust the notebook. <br />On GitHub, the HTML representation is unable to render, please try loading this page with nbviewer.org.</b></div><div class=\"sk-container\" hidden><div class=\"sk-item\"><div class=\"sk-estimator sk-toggleable\"><input class=\"sk-toggleable__control sk-hidden--visually\" id=\"sk-estimator-id-1\" type=\"checkbox\" checked><label for=\"sk-estimator-id-1\" class=\"sk-toggleable__label sk-toggleable__label-arrow\">KerasClassifier</label><div class=\"sk-toggleable__content\"><pre>KerasClassifier(\n",
       "\tmodel=None\n",
       "\tbuild_fn=&lt;function create_model at 0x000002959C29C0E0&gt;\n",
       "\twarm_start=False\n",
       "\trandom_state=None\n",
       "\toptimizer=rmsprop\n",
       "\tloss=None\n",
       "\tmetrics=None\n",
       "\tbatch_size=10\n",
       "\tvalidation_batch_size=None\n",
       "\tverbose=1\n",
       "\tcallbacks=None\n",
       "\tvalidation_split=0.0\n",
       "\tshuffle=True\n",
       "\trun_eagerly=False\n",
       "\tepochs=50\n",
       "\tclass_weight=None\n",
       ")</pre></div></div></div></div></div>"
      ],
      "text/plain": [
       "KerasClassifier(\n",
       "\tmodel=None\n",
       "\tbuild_fn=<function create_model at 0x000002959C29C0E0>\n",
       "\twarm_start=False\n",
       "\trandom_state=None\n",
       "\toptimizer=rmsprop\n",
       "\tloss=None\n",
       "\tmetrics=None\n",
       "\tbatch_size=10\n",
       "\tvalidation_batch_size=None\n",
       "\tverbose=1\n",
       "\tcallbacks=None\n",
       "\tvalidation_split=0.0\n",
       "\tshuffle=True\n",
       "\trun_eagerly=False\n",
       "\tepochs=50\n",
       "\tclass_weight=None\n",
       ")"
      ]
     },
     "execution_count": 160,
     "metadata": {},
     "output_type": "execute_result"
    }
   ],
   "source": [
    "# Fit the model\n",
    "keras_model.fit(xtrains, ytrain)\n",
    "\n"
   ]
  },
  {
   "cell_type": "markdown",
   "id": "11424c5c",
   "metadata": {},
   "source": [
    "# Evaluate the model"
   ]
  },
  {
   "cell_type": "code",
   "execution_count": 161,
   "id": "e08bac8b",
   "metadata": {
    "ExecuteTime": {
     "end_time": "2024-03-08T15:53:12.281329Z",
     "start_time": "2024-03-08T15:53:01.041877Z"
    }
   },
   "outputs": [
    {
     "name": "stdout",
     "output_type": "stream",
     "text": [
      "16/16 [==============================] - 5s 27ms/step\n",
      "Test Accuracy: 0.8910256410256411\n"
     ]
    }
   ],
   "source": [
    "# Evaluate the model\n",
    "accuracy = keras_model.score(xtests, ytest)\n",
    "print(\"Test Accuracy:\", accuracy)"
   ]
  },
  {
   "cell_type": "code",
   "execution_count": 163,
   "id": "8833e8bb",
   "metadata": {
    "ExecuteTime": {
     "end_time": "2024-03-08T15:54:33.630386Z",
     "start_time": "2024-03-08T15:54:31.385872Z"
    }
   },
   "outputs": [
    {
     "name": "stdout",
     "output_type": "stream",
     "text": [
      "37/37 [==============================] - 0s 5ms/step\n",
      "train Accuracy: 0.997229916897507\n"
     ]
    }
   ],
   "source": [
    "accuracy = keras_model.score(xtrains, ytrain)\n",
    "print(\"train Accuracy:\", accuracy)"
   ]
  },
  {
   "cell_type": "code",
   "execution_count": 165,
   "id": "d9f9b708",
   "metadata": {
    "ExecuteTime": {
     "end_time": "2024-03-08T15:55:27.027831Z",
     "start_time": "2024-03-08T15:55:25.896822Z"
    }
   },
   "outputs": [
    {
     "name": "stdout",
     "output_type": "stream",
     "text": [
      "16/16 [==============================] - 0s 3ms/step\n",
      "[[0]\n",
      " [0]\n",
      " [0]\n",
      " [0]\n",
      " [0]\n",
      " [0]\n",
      " [1]\n",
      " [0]\n",
      " [0]\n",
      " [0]\n",
      " [0]\n",
      " [0]\n",
      " [0]\n",
      " [0]\n",
      " [0]\n",
      " [0]\n",
      " [0]\n",
      " [0]\n",
      " [0]\n",
      " [1]\n",
      " [1]\n",
      " [1]\n",
      " [1]\n",
      " [1]\n",
      " [0]\n",
      " [0]\n",
      " [0]\n",
      " [0]\n",
      " [0]\n",
      " [0]\n",
      " [0]\n",
      " [1]\n",
      " [0]\n",
      " [0]\n",
      " [0]\n",
      " [0]\n",
      " [0]\n",
      " [1]\n",
      " [0]\n",
      " [0]\n",
      " [0]\n",
      " [0]\n",
      " [0]\n",
      " [0]\n",
      " [0]\n",
      " [0]\n",
      " [0]\n",
      " [1]\n",
      " [0]\n",
      " [0]\n",
      " [0]\n",
      " [1]\n",
      " [1]\n",
      " [0]\n",
      " [1]\n",
      " [0]\n",
      " [0]\n",
      " [0]\n",
      " [0]\n",
      " [0]\n",
      " [0]\n",
      " [0]\n",
      " [0]\n",
      " [0]\n",
      " [0]\n",
      " [0]\n",
      " [0]\n",
      " [0]\n",
      " [1]\n",
      " [0]\n",
      " [0]\n",
      " [1]\n",
      " [0]\n",
      " [0]\n",
      " [0]\n",
      " [0]\n",
      " [0]\n",
      " [0]\n",
      " [0]\n",
      " [0]\n",
      " [1]\n",
      " [1]\n",
      " [0]\n",
      " [0]\n",
      " [0]\n",
      " [0]\n",
      " [0]\n",
      " [0]\n",
      " [1]\n",
      " [0]\n",
      " [0]\n",
      " [0]\n",
      " [1]\n",
      " [1]\n",
      " [0]\n",
      " [1]\n",
      " [0]\n",
      " [0]\n",
      " [0]\n",
      " [0]\n",
      " [1]\n",
      " [0]\n",
      " [1]\n",
      " [1]\n",
      " [0]\n",
      " [0]\n",
      " [0]\n",
      " [1]\n",
      " [1]\n",
      " [0]\n",
      " [0]\n",
      " [0]\n",
      " [0]\n",
      " [1]\n",
      " [0]\n",
      " [0]\n",
      " [0]\n",
      " [0]\n",
      " [0]\n",
      " [0]\n",
      " [0]\n",
      " [0]\n",
      " [1]\n",
      " [0]\n",
      " [0]\n",
      " [0]\n",
      " [1]\n",
      " [0]\n",
      " [0]\n",
      " [1]\n",
      " [0]\n",
      " [0]\n",
      " [0]\n",
      " [0]\n",
      " [0]\n",
      " [0]\n",
      " [1]\n",
      " [0]\n",
      " [1]\n",
      " [0]\n",
      " [0]\n",
      " [0]\n",
      " [1]\n",
      " [0]\n",
      " [0]\n",
      " [1]\n",
      " [1]\n",
      " [0]\n",
      " [0]\n",
      " [0]\n",
      " [0]\n",
      " [0]\n",
      " [0]\n",
      " [0]\n",
      " [0]\n",
      " [0]]\n"
     ]
    }
   ],
   "source": [
    "ypred = keras_model.predict(xtests)\n",
    "print(ypred)"
   ]
  },
  {
   "cell_type": "code",
   "execution_count": 168,
   "id": "fb5e8060",
   "metadata": {
    "ExecuteTime": {
     "end_time": "2024-03-08T15:57:42.505700Z",
     "start_time": "2024-03-08T15:57:42.496910Z"
    }
   },
   "outputs": [],
   "source": [
    "from sklearn.metrics import classification_report, accuracy_score, confusion_matrix"
   ]
  },
  {
   "cell_type": "code",
   "execution_count": 169,
   "id": "6df38711",
   "metadata": {
    "ExecuteTime": {
     "end_time": "2024-03-08T15:58:03.495404Z",
     "start_time": "2024-03-08T15:58:03.426876Z"
    }
   },
   "outputs": [
    {
     "data": {
      "text/plain": [
       "0.8910256410256411"
      ]
     },
     "execution_count": 169,
     "metadata": {},
     "output_type": "execute_result"
    }
   ],
   "source": [
    "score = accuracy_score(ytest, ypred)\n",
    "score"
   ]
  },
  {
   "cell_type": "code",
   "execution_count": 171,
   "id": "42e4d637",
   "metadata": {
    "ExecuteTime": {
     "end_time": "2024-03-08T15:59:04.522810Z",
     "start_time": "2024-03-08T15:59:04.484786Z"
    }
   },
   "outputs": [
    {
     "name": "stdout",
     "output_type": "stream",
     "text": [
      "              precision    recall  f1-score   support\n",
      "\n",
      "           0       0.90      0.96      0.93       115\n",
      "           1       0.85      0.71      0.77        41\n",
      "\n",
      "    accuracy                           0.89       156\n",
      "   macro avg       0.88      0.83      0.85       156\n",
      "weighted avg       0.89      0.89      0.89       156\n",
      "\n"
     ]
    }
   ],
   "source": [
    "report = classification_report(ytest, ypred)\n",
    "print(report)"
   ]
  },
  {
   "cell_type": "code",
   "execution_count": 172,
   "id": "3bfcb8fb",
   "metadata": {
    "ExecuteTime": {
     "end_time": "2024-03-08T15:59:32.168681Z",
     "start_time": "2024-03-08T15:59:31.580361Z"
    }
   },
   "outputs": [
    {
     "data": {
      "text/plain": [
       "array([[110,   5],\n",
       "       [ 12,  29]], dtype=int64)"
      ]
     },
     "execution_count": 172,
     "metadata": {},
     "output_type": "execute_result"
    }
   ],
   "source": [
    "cm = confusion_matrix(ytest, ypred)\n",
    "cm"
   ]
  },
  {
   "cell_type": "code",
   "execution_count": null,
   "id": "cbac2bad",
   "metadata": {},
   "outputs": [],
   "source": []
  },
  {
   "cell_type": "code",
   "execution_count": null,
   "id": "d4da776d",
   "metadata": {},
   "outputs": [],
   "source": []
  },
  {
   "cell_type": "code",
   "execution_count": null,
   "id": "7c1dee88",
   "metadata": {},
   "outputs": [],
   "source": [
    "### try this model also"
   ]
  },
  {
   "cell_type": "code",
   "execution_count": 176,
   "id": "bf7d7576",
   "metadata": {
    "ExecuteTime": {
     "end_time": "2024-03-08T16:01:57.043547Z",
     "start_time": "2024-03-08T16:01:57.034163Z"
    }
   },
   "outputs": [],
   "source": [
    "def create_model():\n",
    "    model = Sequential()\n",
    "    model.add(Dense(16,input_dim=28 , activation= 'relu' ))\n",
    "    model.add(Dense(8, activation= 'relu'))\n",
    "    model.add(Dense(units=1, activation='sigmoid'))\n",
    "    model.compile(optimizer = 'adam', loss ='binary_crossentropy', metrics = ['accuracy'])\n",
    "    return model\n",
    "\n",
    "    "
   ]
  },
  {
   "cell_type": "code",
   "execution_count": 177,
   "id": "2e6e9efc",
   "metadata": {
    "ExecuteTime": {
     "end_time": "2024-03-08T16:01:59.346238Z",
     "start_time": "2024-03-08T16:01:59.336537Z"
    }
   },
   "outputs": [],
   "source": [
    "# Create KerasClassifier\n",
    "model = KerasClassifier(build_fn=create_model, epochs=10, batch_size=10, verbose=0)\n"
   ]
  },
  {
   "cell_type": "code",
   "execution_count": 178,
   "id": "10c39e19",
   "metadata": {
    "ExecuteTime": {
     "end_time": "2024-03-08T16:02:09.422599Z",
     "start_time": "2024-03-08T16:02:02.127924Z"
    }
   },
   "outputs": [
    {
     "name": "stderr",
     "output_type": "stream",
     "text": [
      "C:\\Users\\Suresh Goud\\anaconda3\\Lib\\site-packages\\scikeras\\wrappers.py:915: UserWarning: ``build_fn`` will be renamed to ``model`` in a future release, at which point use of ``build_fn`` will raise an Error instead.\n",
      "  X, y = self._initialize(X, y)\n"
     ]
    },
    {
     "data": {
      "text/html": [
       "<style>#sk-container-id-2 {color: black;}#sk-container-id-2 pre{padding: 0;}#sk-container-id-2 div.sk-toggleable {background-color: white;}#sk-container-id-2 label.sk-toggleable__label {cursor: pointer;display: block;width: 100%;margin-bottom: 0;padding: 0.3em;box-sizing: border-box;text-align: center;}#sk-container-id-2 label.sk-toggleable__label-arrow:before {content: \"▸\";float: left;margin-right: 0.25em;color: #696969;}#sk-container-id-2 label.sk-toggleable__label-arrow:hover:before {color: black;}#sk-container-id-2 div.sk-estimator:hover label.sk-toggleable__label-arrow:before {color: black;}#sk-container-id-2 div.sk-toggleable__content {max-height: 0;max-width: 0;overflow: hidden;text-align: left;background-color: #f0f8ff;}#sk-container-id-2 div.sk-toggleable__content pre {margin: 0.2em;color: black;border-radius: 0.25em;background-color: #f0f8ff;}#sk-container-id-2 input.sk-toggleable__control:checked~div.sk-toggleable__content {max-height: 200px;max-width: 100%;overflow: auto;}#sk-container-id-2 input.sk-toggleable__control:checked~label.sk-toggleable__label-arrow:before {content: \"▾\";}#sk-container-id-2 div.sk-estimator input.sk-toggleable__control:checked~label.sk-toggleable__label {background-color: #d4ebff;}#sk-container-id-2 div.sk-label input.sk-toggleable__control:checked~label.sk-toggleable__label {background-color: #d4ebff;}#sk-container-id-2 input.sk-hidden--visually {border: 0;clip: rect(1px 1px 1px 1px);clip: rect(1px, 1px, 1px, 1px);height: 1px;margin: -1px;overflow: hidden;padding: 0;position: absolute;width: 1px;}#sk-container-id-2 div.sk-estimator {font-family: monospace;background-color: #f0f8ff;border: 1px dotted black;border-radius: 0.25em;box-sizing: border-box;margin-bottom: 0.5em;}#sk-container-id-2 div.sk-estimator:hover {background-color: #d4ebff;}#sk-container-id-2 div.sk-parallel-item::after {content: \"\";width: 100%;border-bottom: 1px solid gray;flex-grow: 1;}#sk-container-id-2 div.sk-label:hover label.sk-toggleable__label {background-color: #d4ebff;}#sk-container-id-2 div.sk-serial::before {content: \"\";position: absolute;border-left: 1px solid gray;box-sizing: border-box;top: 0;bottom: 0;left: 50%;z-index: 0;}#sk-container-id-2 div.sk-serial {display: flex;flex-direction: column;align-items: center;background-color: white;padding-right: 0.2em;padding-left: 0.2em;position: relative;}#sk-container-id-2 div.sk-item {position: relative;z-index: 1;}#sk-container-id-2 div.sk-parallel {display: flex;align-items: stretch;justify-content: center;background-color: white;position: relative;}#sk-container-id-2 div.sk-item::before, #sk-container-id-2 div.sk-parallel-item::before {content: \"\";position: absolute;border-left: 1px solid gray;box-sizing: border-box;top: 0;bottom: 0;left: 50%;z-index: -1;}#sk-container-id-2 div.sk-parallel-item {display: flex;flex-direction: column;z-index: 1;position: relative;background-color: white;}#sk-container-id-2 div.sk-parallel-item:first-child::after {align-self: flex-end;width: 50%;}#sk-container-id-2 div.sk-parallel-item:last-child::after {align-self: flex-start;width: 50%;}#sk-container-id-2 div.sk-parallel-item:only-child::after {width: 0;}#sk-container-id-2 div.sk-dashed-wrapped {border: 1px dashed gray;margin: 0 0.4em 0.5em 0.4em;box-sizing: border-box;padding-bottom: 0.4em;background-color: white;}#sk-container-id-2 div.sk-label label {font-family: monospace;font-weight: bold;display: inline-block;line-height: 1.2em;}#sk-container-id-2 div.sk-label-container {text-align: center;}#sk-container-id-2 div.sk-container {/* jupyter's `normalize.less` sets `[hidden] { display: none; }` but bootstrap.min.css set `[hidden] { display: none !important; }` so we also need the `!important` here to be able to override the default hidden behavior on the sphinx rendered scikit-learn.org. See: https://github.com/scikit-learn/scikit-learn/issues/21755 */display: inline-block !important;position: relative;}#sk-container-id-2 div.sk-text-repr-fallback {display: none;}</style><div id=\"sk-container-id-2\" class=\"sk-top-container\"><div class=\"sk-text-repr-fallback\"><pre>KerasClassifier(\n",
       "\tmodel=None\n",
       "\tbuild_fn=&lt;function create_model at 0x000002959D1AF4C0&gt;\n",
       "\twarm_start=False\n",
       "\trandom_state=None\n",
       "\toptimizer=rmsprop\n",
       "\tloss=None\n",
       "\tmetrics=None\n",
       "\tbatch_size=10\n",
       "\tvalidation_batch_size=None\n",
       "\tverbose=0\n",
       "\tcallbacks=None\n",
       "\tvalidation_split=0.0\n",
       "\tshuffle=True\n",
       "\trun_eagerly=False\n",
       "\tepochs=10\n",
       "\tclass_weight=None\n",
       ")</pre><b>In a Jupyter environment, please rerun this cell to show the HTML representation or trust the notebook. <br />On GitHub, the HTML representation is unable to render, please try loading this page with nbviewer.org.</b></div><div class=\"sk-container\" hidden><div class=\"sk-item\"><div class=\"sk-estimator sk-toggleable\"><input class=\"sk-toggleable__control sk-hidden--visually\" id=\"sk-estimator-id-2\" type=\"checkbox\" checked><label for=\"sk-estimator-id-2\" class=\"sk-toggleable__label sk-toggleable__label-arrow\">KerasClassifier</label><div class=\"sk-toggleable__content\"><pre>KerasClassifier(\n",
       "\tmodel=None\n",
       "\tbuild_fn=&lt;function create_model at 0x000002959D1AF4C0&gt;\n",
       "\twarm_start=False\n",
       "\trandom_state=None\n",
       "\toptimizer=rmsprop\n",
       "\tloss=None\n",
       "\tmetrics=None\n",
       "\tbatch_size=10\n",
       "\tvalidation_batch_size=None\n",
       "\tverbose=0\n",
       "\tcallbacks=None\n",
       "\tvalidation_split=0.0\n",
       "\tshuffle=True\n",
       "\trun_eagerly=False\n",
       "\tepochs=10\n",
       "\tclass_weight=None\n",
       ")</pre></div></div></div></div></div>"
      ],
      "text/plain": [
       "KerasClassifier(\n",
       "\tmodel=None\n",
       "\tbuild_fn=<function create_model at 0x000002959D1AF4C0>\n",
       "\twarm_start=False\n",
       "\trandom_state=None\n",
       "\toptimizer=rmsprop\n",
       "\tloss=None\n",
       "\tmetrics=None\n",
       "\tbatch_size=10\n",
       "\tvalidation_batch_size=None\n",
       "\tverbose=0\n",
       "\tcallbacks=None\n",
       "\tvalidation_split=0.0\n",
       "\tshuffle=True\n",
       "\trun_eagerly=False\n",
       "\tepochs=10\n",
       "\tclass_weight=None\n",
       ")"
      ]
     },
     "execution_count": 178,
     "metadata": {},
     "output_type": "execute_result"
    }
   ],
   "source": [
    "model.fit(xtrains, ytrain)"
   ]
  },
  {
   "cell_type": "code",
   "execution_count": null,
   "id": "1ce664c6",
   "metadata": {},
   "outputs": [],
   "source": []
  },
  {
   "cell_type": "code",
   "execution_count": null,
   "id": "746d71c1",
   "metadata": {},
   "outputs": [],
   "source": []
  },
  {
   "cell_type": "code",
   "execution_count": 179,
   "id": "c2597ec7",
   "metadata": {
    "ExecuteTime": {
     "end_time": "2024-03-08T16:05:12.303266Z",
     "start_time": "2024-03-08T16:05:11.266257Z"
    }
   },
   "outputs": [],
   "source": [
    "# Initialising the ANN\n",
    "classifier = Sequential()\n",
    "\n",
    "# Adding the input layer and the first hidden layer\n",
    "classifier.add(Dense(units = 10,kernel_initializer='he_uniform',activation='relu',input_dim = 28))\n",
    "\n",
    "# Adding the second hidden layer\n",
    "classifier.add(Dense(units = 10, kernel_initializer = 'he_uniform',activation='relu'))\n",
    "# Adding the output layer\n",
    "classifier.add(Dense(units = 1, kernel_initializer = 'glorot_uniform', activation = 'sigmoid'))\n",
    "\n",
    "# Compiling the ANN\n",
    "classifier.compile(optimizer = 'adam', loss = 'binary_crossentropy', metrics = ['accuracy'])"
   ]
  },
  {
   "cell_type": "code",
   "execution_count": 180,
   "id": "55b25b4e",
   "metadata": {
    "ExecuteTime": {
     "end_time": "2024-03-08T16:05:15.458013Z",
     "start_time": "2024-03-08T16:05:14.497890Z"
    },
    "scrolled": true
   },
   "outputs": [
    {
     "name": "stdout",
     "output_type": "stream",
     "text": [
      "Model: \"sequential_27\"\n",
      "_________________________________________________________________\n",
      " Layer (type)                Output Shape              Param #   \n",
      "=================================================================\n",
      " dense_70 (Dense)            (None, 10)                290       \n",
      "                                                                 \n",
      " dense_71 (Dense)            (None, 10)                110       \n",
      "                                                                 \n",
      " dense_72 (Dense)            (None, 1)                 11        \n",
      "                                                                 \n",
      "=================================================================\n",
      "Total params: 411 (1.61 KB)\n",
      "Trainable params: 411 (1.61 KB)\n",
      "Non-trainable params: 0 (0.00 Byte)\n",
      "_________________________________________________________________\n"
     ]
    }
   ],
   "source": [
    "classifier.summary()"
   ]
  },
  {
   "cell_type": "code",
   "execution_count": 181,
   "id": "a0078fa8",
   "metadata": {
    "ExecuteTime": {
     "end_time": "2024-03-08T16:05:43.227509Z",
     "start_time": "2024-03-08T16:05:22.396552Z"
    }
   },
   "outputs": [
    {
     "name": "stdout",
     "output_type": "stream",
     "text": [
      "Epoch 1/100\n",
      "3/3 [==============================] - 4s 490ms/step - loss: 1.3830 - accuracy: 0.3154 - val_loss: 1.3768 - val_accuracy: 0.2917\n",
      "Epoch 2/100\n",
      "3/3 [==============================] - 0s 79ms/step - loss: 1.3277 - accuracy: 0.3195 - val_loss: 1.3300 - val_accuracy: 0.3083\n",
      "Epoch 3/100\n",
      "3/3 [==============================] - 0s 102ms/step - loss: 1.2789 - accuracy: 0.3154 - val_loss: 1.2855 - val_accuracy: 0.3083\n",
      "Epoch 4/100\n",
      "3/3 [==============================] - 0s 82ms/step - loss: 1.2295 - accuracy: 0.3195 - val_loss: 1.2431 - val_accuracy: 0.3250\n",
      "Epoch 5/100\n",
      "3/3 [==============================] - 0s 120ms/step - loss: 1.1841 - accuracy: 0.3237 - val_loss: 1.2027 - val_accuracy: 0.3333\n",
      "Epoch 6/100\n",
      "3/3 [==============================] - 0s 81ms/step - loss: 1.1385 - accuracy: 0.3278 - val_loss: 1.1643 - val_accuracy: 0.3500\n",
      "Epoch 7/100\n",
      "3/3 [==============================] - 0s 90ms/step - loss: 1.0984 - accuracy: 0.3402 - val_loss: 1.1272 - val_accuracy: 0.3417\n",
      "Epoch 8/100\n",
      "3/3 [==============================] - 0s 55ms/step - loss: 1.0593 - accuracy: 0.3568 - val_loss: 1.0924 - val_accuracy: 0.3500\n",
      "Epoch 9/100\n",
      "3/3 [==============================] - 0s 88ms/step - loss: 1.0230 - accuracy: 0.3776 - val_loss: 1.0596 - val_accuracy: 0.3583\n",
      "Epoch 10/100\n",
      "3/3 [==============================] - 0s 121ms/step - loss: 0.9897 - accuracy: 0.3900 - val_loss: 1.0291 - val_accuracy: 0.3583\n",
      "Epoch 11/100\n",
      "3/3 [==============================] - 0s 84ms/step - loss: 0.9574 - accuracy: 0.4066 - val_loss: 1.0003 - val_accuracy: 0.3583\n",
      "Epoch 12/100\n",
      "3/3 [==============================] - 0s 69ms/step - loss: 0.9290 - accuracy: 0.4315 - val_loss: 0.9730 - val_accuracy: 0.3583\n",
      "Epoch 13/100\n",
      "3/3 [==============================] - 0s 70ms/step - loss: 0.9013 - accuracy: 0.4232 - val_loss: 0.9477 - val_accuracy: 0.3667\n",
      "Epoch 14/100\n",
      "3/3 [==============================] - 0s 88ms/step - loss: 0.8757 - accuracy: 0.4357 - val_loss: 0.9242 - val_accuracy: 0.3667\n",
      "Epoch 15/100\n",
      "3/3 [==============================] - 0s 69ms/step - loss: 0.8517 - accuracy: 0.4315 - val_loss: 0.9025 - val_accuracy: 0.3917\n",
      "Epoch 16/100\n",
      "3/3 [==============================] - 0s 70ms/step - loss: 0.8306 - accuracy: 0.4440 - val_loss: 0.8821 - val_accuracy: 0.4083\n",
      "Epoch 17/100\n",
      "3/3 [==============================] - 0s 60ms/step - loss: 0.8102 - accuracy: 0.4523 - val_loss: 0.8635 - val_accuracy: 0.4250\n",
      "Epoch 18/100\n",
      "3/3 [==============================] - 0s 68ms/step - loss: 0.7908 - accuracy: 0.4647 - val_loss: 0.8465 - val_accuracy: 0.4417\n",
      "Epoch 19/100\n",
      "3/3 [==============================] - 0s 60ms/step - loss: 0.7745 - accuracy: 0.4896 - val_loss: 0.8305 - val_accuracy: 0.4500\n",
      "Epoch 20/100\n",
      "3/3 [==============================] - 0s 50ms/step - loss: 0.7586 - accuracy: 0.5021 - val_loss: 0.8160 - val_accuracy: 0.4667\n",
      "Epoch 21/100\n",
      "3/3 [==============================] - 0s 84ms/step - loss: 0.7443 - accuracy: 0.5311 - val_loss: 0.8022 - val_accuracy: 0.4667\n",
      "Epoch 22/100\n",
      "3/3 [==============================] - 0s 74ms/step - loss: 0.7315 - accuracy: 0.5228 - val_loss: 0.7888 - val_accuracy: 0.4667\n",
      "Epoch 23/100\n",
      "3/3 [==============================] - 0s 56ms/step - loss: 0.7186 - accuracy: 0.5394 - val_loss: 0.7767 - val_accuracy: 0.4833\n",
      "Epoch 24/100\n",
      "3/3 [==============================] - 0s 64ms/step - loss: 0.7066 - accuracy: 0.5685 - val_loss: 0.7654 - val_accuracy: 0.4917\n",
      "Epoch 25/100\n",
      "3/3 [==============================] - 0s 80ms/step - loss: 0.6958 - accuracy: 0.5726 - val_loss: 0.7546 - val_accuracy: 0.5083\n",
      "Epoch 26/100\n",
      "3/3 [==============================] - 0s 73ms/step - loss: 0.6868 - accuracy: 0.5851 - val_loss: 0.7445 - val_accuracy: 0.5000\n",
      "Epoch 27/100\n",
      "3/3 [==============================] - 0s 74ms/step - loss: 0.6774 - accuracy: 0.5934 - val_loss: 0.7351 - val_accuracy: 0.5250\n",
      "Epoch 28/100\n",
      "3/3 [==============================] - 0s 78ms/step - loss: 0.6690 - accuracy: 0.6058 - val_loss: 0.7265 - val_accuracy: 0.5250\n",
      "Epoch 29/100\n",
      "3/3 [==============================] - 0s 68ms/step - loss: 0.6609 - accuracy: 0.6307 - val_loss: 0.7186 - val_accuracy: 0.5250\n",
      "Epoch 30/100\n",
      "3/3 [==============================] - 0s 79ms/step - loss: 0.6539 - accuracy: 0.6432 - val_loss: 0.7113 - val_accuracy: 0.5500\n",
      "Epoch 31/100\n",
      "3/3 [==============================] - 0s 67ms/step - loss: 0.6470 - accuracy: 0.6515 - val_loss: 0.7044 - val_accuracy: 0.5667\n",
      "Epoch 32/100\n",
      "3/3 [==============================] - 0s 66ms/step - loss: 0.6408 - accuracy: 0.6598 - val_loss: 0.6980 - val_accuracy: 0.5917\n",
      "Epoch 33/100\n",
      "3/3 [==============================] - 0s 64ms/step - loss: 0.6348 - accuracy: 0.6639 - val_loss: 0.6920 - val_accuracy: 0.5917\n",
      "Epoch 34/100\n",
      "3/3 [==============================] - 0s 80ms/step - loss: 0.6292 - accuracy: 0.6639 - val_loss: 0.6863 - val_accuracy: 0.6000\n",
      "Epoch 35/100\n",
      "3/3 [==============================] - 0s 68ms/step - loss: 0.6240 - accuracy: 0.6763 - val_loss: 0.6808 - val_accuracy: 0.6083\n",
      "Epoch 36/100\n",
      "3/3 [==============================] - 0s 80ms/step - loss: 0.6198 - accuracy: 0.6805 - val_loss: 0.6753 - val_accuracy: 0.6083\n",
      "Epoch 37/100\n",
      "3/3 [==============================] - 0s 71ms/step - loss: 0.6147 - accuracy: 0.6929 - val_loss: 0.6701 - val_accuracy: 0.6250\n",
      "Epoch 38/100\n",
      "3/3 [==============================] - 0s 59ms/step - loss: 0.6101 - accuracy: 0.6929 - val_loss: 0.6652 - val_accuracy: 0.6250\n",
      "Epoch 39/100\n",
      "3/3 [==============================] - 0s 70ms/step - loss: 0.6062 - accuracy: 0.6929 - val_loss: 0.6601 - val_accuracy: 0.6417\n",
      "Epoch 40/100\n",
      "3/3 [==============================] - 0s 81ms/step - loss: 0.6020 - accuracy: 0.6971 - val_loss: 0.6556 - val_accuracy: 0.6417\n",
      "Epoch 41/100\n",
      "3/3 [==============================] - 0s 67ms/step - loss: 0.5983 - accuracy: 0.6971 - val_loss: 0.6513 - val_accuracy: 0.6417\n",
      "Epoch 42/100\n",
      "3/3 [==============================] - 0s 62ms/step - loss: 0.5950 - accuracy: 0.7012 - val_loss: 0.6472 - val_accuracy: 0.6417\n",
      "Epoch 43/100\n",
      "3/3 [==============================] - 0s 60ms/step - loss: 0.5915 - accuracy: 0.7095 - val_loss: 0.6432 - val_accuracy: 0.6500\n",
      "Epoch 44/100\n",
      "3/3 [==============================] - 0s 62ms/step - loss: 0.5885 - accuracy: 0.7137 - val_loss: 0.6393 - val_accuracy: 0.6500\n",
      "Epoch 45/100\n",
      "3/3 [==============================] - 0s 58ms/step - loss: 0.5855 - accuracy: 0.7178 - val_loss: 0.6357 - val_accuracy: 0.6583\n",
      "Epoch 46/100\n",
      "3/3 [==============================] - 0s 56ms/step - loss: 0.5825 - accuracy: 0.7178 - val_loss: 0.6323 - val_accuracy: 0.6833\n",
      "Epoch 47/100\n",
      "3/3 [==============================] - 0s 79ms/step - loss: 0.5799 - accuracy: 0.7178 - val_loss: 0.6290 - val_accuracy: 0.6917\n",
      "Epoch 48/100\n",
      "3/3 [==============================] - 0s 64ms/step - loss: 0.5771 - accuracy: 0.7220 - val_loss: 0.6259 - val_accuracy: 0.7000\n",
      "Epoch 49/100\n",
      "3/3 [==============================] - 0s 56ms/step - loss: 0.5744 - accuracy: 0.7303 - val_loss: 0.6228 - val_accuracy: 0.6917\n",
      "Epoch 50/100\n",
      "3/3 [==============================] - 0s 78ms/step - loss: 0.5717 - accuracy: 0.7344 - val_loss: 0.6198 - val_accuracy: 0.7000\n",
      "Epoch 51/100\n",
      "3/3 [==============================] - 0s 75ms/step - loss: 0.5694 - accuracy: 0.7386 - val_loss: 0.6169 - val_accuracy: 0.7083\n",
      "Epoch 52/100\n",
      "3/3 [==============================] - 0s 84ms/step - loss: 0.5668 - accuracy: 0.7303 - val_loss: 0.6140 - val_accuracy: 0.7083\n",
      "Epoch 53/100\n",
      "3/3 [==============================] - 0s 71ms/step - loss: 0.5645 - accuracy: 0.7303 - val_loss: 0.6112 - val_accuracy: 0.7250\n",
      "Epoch 54/100\n",
      "3/3 [==============================] - 0s 246ms/step - loss: 0.5623 - accuracy: 0.7220 - val_loss: 0.6086 - val_accuracy: 0.7250\n",
      "Epoch 55/100\n",
      "3/3 [==============================] - 0s 67ms/step - loss: 0.5600 - accuracy: 0.7178 - val_loss: 0.6061 - val_accuracy: 0.7250\n",
      "Epoch 56/100\n",
      "3/3 [==============================] - 0s 45ms/step - loss: 0.5577 - accuracy: 0.7220 - val_loss: 0.6037 - val_accuracy: 0.7250\n",
      "Epoch 57/100\n",
      "3/3 [==============================] - 0s 49ms/step - loss: 0.5558 - accuracy: 0.7303 - val_loss: 0.6012 - val_accuracy: 0.7250\n",
      "Epoch 58/100\n",
      "3/3 [==============================] - 0s 68ms/step - loss: 0.5539 - accuracy: 0.7344 - val_loss: 0.5988 - val_accuracy: 0.7250\n",
      "Epoch 59/100\n",
      "3/3 [==============================] - 0s 75ms/step - loss: 0.5517 - accuracy: 0.7344 - val_loss: 0.5967 - val_accuracy: 0.7250\n",
      "Epoch 60/100\n",
      "3/3 [==============================] - 0s 53ms/step - loss: 0.5499 - accuracy: 0.7344 - val_loss: 0.5948 - val_accuracy: 0.7333\n",
      "Epoch 61/100\n",
      "3/3 [==============================] - 0s 51ms/step - loss: 0.5480 - accuracy: 0.7344 - val_loss: 0.5933 - val_accuracy: 0.7333\n",
      "Epoch 62/100\n",
      "3/3 [==============================] - 0s 44ms/step - loss: 0.5461 - accuracy: 0.7386 - val_loss: 0.5914 - val_accuracy: 0.7417\n",
      "Epoch 63/100\n",
      "3/3 [==============================] - 0s 53ms/step - loss: 0.5442 - accuracy: 0.7386 - val_loss: 0.5897 - val_accuracy: 0.7417\n",
      "Epoch 64/100\n",
      "3/3 [==============================] - 0s 54ms/step - loss: 0.5424 - accuracy: 0.7386 - val_loss: 0.5880 - val_accuracy: 0.7417\n",
      "Epoch 65/100\n",
      "3/3 [==============================] - 0s 48ms/step - loss: 0.5407 - accuracy: 0.7427 - val_loss: 0.5863 - val_accuracy: 0.7417\n",
      "Epoch 66/100\n",
      "3/3 [==============================] - 0s 102ms/step - loss: 0.5387 - accuracy: 0.7427 - val_loss: 0.5848 - val_accuracy: 0.7417\n",
      "Epoch 67/100\n",
      "3/3 [==============================] - 0s 76ms/step - loss: 0.5371 - accuracy: 0.7427 - val_loss: 0.5832 - val_accuracy: 0.7417\n",
      "Epoch 68/100\n",
      "3/3 [==============================] - 0s 71ms/step - loss: 0.5353 - accuracy: 0.7427 - val_loss: 0.5816 - val_accuracy: 0.7500\n",
      "Epoch 69/100\n",
      "3/3 [==============================] - 0s 85ms/step - loss: 0.5337 - accuracy: 0.7510 - val_loss: 0.5802 - val_accuracy: 0.7500\n",
      "Epoch 70/100\n",
      "3/3 [==============================] - 0s 83ms/step - loss: 0.5320 - accuracy: 0.7510 - val_loss: 0.5788 - val_accuracy: 0.7500\n",
      "Epoch 71/100\n",
      "3/3 [==============================] - 0s 49ms/step - loss: 0.5303 - accuracy: 0.7427 - val_loss: 0.5774 - val_accuracy: 0.7500\n",
      "Epoch 72/100\n",
      "3/3 [==============================] - 0s 92ms/step - loss: 0.5286 - accuracy: 0.7427 - val_loss: 0.5761 - val_accuracy: 0.7417\n",
      "Epoch 73/100\n",
      "3/3 [==============================] - 0s 79ms/step - loss: 0.5269 - accuracy: 0.7469 - val_loss: 0.5749 - val_accuracy: 0.7500\n",
      "Epoch 74/100\n",
      "3/3 [==============================] - 0s 73ms/step - loss: 0.5251 - accuracy: 0.7552 - val_loss: 0.5737 - val_accuracy: 0.7500\n",
      "Epoch 75/100\n",
      "3/3 [==============================] - 0s 83ms/step - loss: 0.5235 - accuracy: 0.7552 - val_loss: 0.5723 - val_accuracy: 0.7500\n",
      "Epoch 76/100\n",
      "3/3 [==============================] - 0s 82ms/step - loss: 0.5217 - accuracy: 0.7552 - val_loss: 0.5709 - val_accuracy: 0.7500\n",
      "Epoch 77/100\n",
      "3/3 [==============================] - 0s 53ms/step - loss: 0.5199 - accuracy: 0.7552 - val_loss: 0.5694 - val_accuracy: 0.7500\n",
      "Epoch 78/100\n",
      "3/3 [==============================] - 0s 87ms/step - loss: 0.5181 - accuracy: 0.7593 - val_loss: 0.5680 - val_accuracy: 0.7500\n",
      "Epoch 79/100\n",
      "3/3 [==============================] - 0s 88ms/step - loss: 0.5164 - accuracy: 0.7593 - val_loss: 0.5666 - val_accuracy: 0.7583\n",
      "Epoch 80/100\n",
      "3/3 [==============================] - 0s 86ms/step - loss: 0.5146 - accuracy: 0.7593 - val_loss: 0.5652 - val_accuracy: 0.7583\n",
      "Epoch 81/100\n",
      "3/3 [==============================] - 0s 55ms/step - loss: 0.5129 - accuracy: 0.7635 - val_loss: 0.5640 - val_accuracy: 0.7583\n",
      "Epoch 82/100\n",
      "3/3 [==============================] - 0s 54ms/step - loss: 0.5113 - accuracy: 0.7635 - val_loss: 0.5629 - val_accuracy: 0.7583\n",
      "Epoch 83/100\n",
      "3/3 [==============================] - 0s 66ms/step - loss: 0.5097 - accuracy: 0.7676 - val_loss: 0.5619 - val_accuracy: 0.7583\n",
      "Epoch 84/100\n",
      "3/3 [==============================] - 0s 78ms/step - loss: 0.5081 - accuracy: 0.7718 - val_loss: 0.5608 - val_accuracy: 0.7583\n",
      "Epoch 85/100\n",
      "3/3 [==============================] - 0s 77ms/step - loss: 0.5066 - accuracy: 0.7676 - val_loss: 0.5596 - val_accuracy: 0.7583\n",
      "Epoch 86/100\n",
      "3/3 [==============================] - 0s 80ms/step - loss: 0.5051 - accuracy: 0.7676 - val_loss: 0.5585 - val_accuracy: 0.7583\n",
      "Epoch 87/100\n",
      "3/3 [==============================] - 0s 78ms/step - loss: 0.5036 - accuracy: 0.7718 - val_loss: 0.5576 - val_accuracy: 0.7583\n",
      "Epoch 88/100\n",
      "3/3 [==============================] - 0s 112ms/step - loss: 0.5020 - accuracy: 0.7718 - val_loss: 0.5568 - val_accuracy: 0.7667\n",
      "Epoch 89/100\n",
      "3/3 [==============================] - 0s 79ms/step - loss: 0.5006 - accuracy: 0.7718 - val_loss: 0.5559 - val_accuracy: 0.7667\n",
      "Epoch 90/100\n",
      "3/3 [==============================] - 0s 74ms/step - loss: 0.4992 - accuracy: 0.7759 - val_loss: 0.5550 - val_accuracy: 0.7667\n",
      "Epoch 91/100\n",
      "3/3 [==============================] - 0s 90ms/step - loss: 0.4979 - accuracy: 0.7801 - val_loss: 0.5541 - val_accuracy: 0.7667\n",
      "Epoch 92/100\n",
      "3/3 [==============================] - 0s 64ms/step - loss: 0.4962 - accuracy: 0.7801 - val_loss: 0.5530 - val_accuracy: 0.7667\n",
      "Epoch 93/100\n",
      "3/3 [==============================] - 0s 54ms/step - loss: 0.4948 - accuracy: 0.7801 - val_loss: 0.5520 - val_accuracy: 0.7667\n",
      "Epoch 94/100\n",
      "3/3 [==============================] - 0s 46ms/step - loss: 0.4934 - accuracy: 0.7801 - val_loss: 0.5510 - val_accuracy: 0.7667\n",
      "Epoch 95/100\n",
      "3/3 [==============================] - 0s 52ms/step - loss: 0.4917 - accuracy: 0.7801 - val_loss: 0.5501 - val_accuracy: 0.7667\n",
      "Epoch 96/100\n",
      "3/3 [==============================] - 0s 49ms/step - loss: 0.4903 - accuracy: 0.7801 - val_loss: 0.5494 - val_accuracy: 0.7667\n",
      "Epoch 97/100\n",
      "3/3 [==============================] - 0s 43ms/step - loss: 0.4889 - accuracy: 0.7842 - val_loss: 0.5484 - val_accuracy: 0.7667\n",
      "Epoch 98/100\n",
      "3/3 [==============================] - 0s 55ms/step - loss: 0.4874 - accuracy: 0.7842 - val_loss: 0.5474 - val_accuracy: 0.7667\n",
      "Epoch 99/100\n",
      "3/3 [==============================] - 0s 54ms/step - loss: 0.4859 - accuracy: 0.7842 - val_loss: 0.5465 - val_accuracy: 0.7667\n",
      "Epoch 100/100\n",
      "3/3 [==============================] - 0s 44ms/step - loss: 0.4845 - accuracy: 0.7842 - val_loss: 0.5455 - val_accuracy: 0.7667\n"
     ]
    }
   ],
   "source": [
    "# Fitting the ANN to the Training set\n",
    "model_history=classifier.fit(xtrains, ytrain,validation_split=0.33, batch_size = 100,epochs = 100)#,callbacks = [histories])"
   ]
  }
 ],
 "metadata": {
  "kernelspec": {
   "display_name": "Python 3 (ipykernel)",
   "language": "python",
   "name": "python3"
  },
  "language_info": {
   "codemirror_mode": {
    "name": "ipython",
    "version": 3
   },
   "file_extension": ".py",
   "mimetype": "text/x-python",
   "name": "python",
   "nbconvert_exporter": "python",
   "pygments_lexer": "ipython3",
   "version": "3.11.5"
  }
 },
 "nbformat": 4,
 "nbformat_minor": 5
}
